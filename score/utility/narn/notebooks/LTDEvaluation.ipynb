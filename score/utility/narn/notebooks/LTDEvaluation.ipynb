{
 "cells": [
  {
   "cell_type": "markdown",
   "id": "1c0e147b-2751-42b4-830a-8f300dc2ace6",
   "metadata": {},
   "source": [
    "# LTD Evalautions\n",
    "This notebook will demponstrate the use of the REST API to evaluate the LTD model."
   ]
  },
  {
   "cell_type": "code",
   "execution_count": 1,
   "id": "4bdcddda-056a-4ba5-b42c-d57c7c2e9c50",
   "metadata": {},
   "outputs": [],
   "source": [
    "import requests\n",
    "from requests.auth import AuthBase\n",
    "import os\n",
    "import pandas as pd"
   ]
  },
  {
   "cell_type": "markdown",
   "id": "45342bfb-1b57-42fe-ae3a-3020a074925d",
   "metadata": {},
   "source": [
    "We need to grab a token to use the system."
   ]
  },
  {
   "cell_type": "code",
   "execution_count": 2,
   "id": "10840d10-48d9-4b8d-bf72-2ec6ac08df69",
   "metadata": {},
   "outputs": [],
   "source": [
    "URL =\"http://score-web-1:8000\"\n",
    "URL1 = URL+\"/api-token-auth/\"\n",
    "payload = {'username':'locomotives', 'password':'locomotives'}\n",
    "t = requests.post(URL1, data=payload )\n",
    "token = t.json().get('token')"
   ]
  },
  {
   "cell_type": "markdown",
   "id": "dfba5db8-f026-4aa3-a194-ab7828fff640",
   "metadata": {},
   "source": [
    "A small helper to add the token to the headers that get sent to our requests."
   ]
  },
  {
   "cell_type": "code",
   "execution_count": 3,
   "id": "b3de2b61-401e-44bd-9805-a4f25d1e597e",
   "metadata": {},
   "outputs": [],
   "source": [
    "class TokenAuth(AuthBase):\n",
    "    \"\"\" Implements a custom authentication scheme. \"\"\"\n",
    "\n",
    "    def __init__(self, token):\n",
    "        self.token = token\n",
    "\n",
    "    def __call__(self, r):\n",
    "        \"\"\" Attach an API token to a custom auth header. \"\"\"\n",
    "        r.headers['Authorization'] = \"Token \" + f'{self.token}'\n",
    "        return r"
   ]
  },
  {
   "cell_type": "code",
   "execution_count": 4,
   "id": "940e70fb-dcd6-488d-b05b-b1b66713ade0",
   "metadata": {},
   "outputs": [],
   "source": [
    "URL2 = URL+\"/api/route/list/\"\n",
    "URL3 = URL+\"/api/get_consist_list/\"\n",
    "URL4 = URL+\"/api/evaluate/\"\n",
    "URL5 = URL+\"/api/get_ltd_result/\""
   ]
  },
  {
   "cell_type": "code",
   "execution_count": 5,
   "id": "7b6fec9a-efa3-4a6f-bfc4-ac215e5615a4",
   "metadata": {},
   "outputs": [
    {
     "data": {
      "text/plain": [
       "{'4': 'Tyrone - State College',\n",
       " '1': 'Landers Yard - Rickenbacker',\n",
       " '2': 'Norfolk - Suffolk',\n",
       " '3': 'Savannah - Macon',\n",
       " '7': 'Maple Heights Intermodal - Pitcairn Intermodal',\n",
       " '5': '47th Street Intermodal - Croxton',\n",
       " '8': 'Pitcairn Intermodal - Rutherford Intermodal',\n",
       " '9': 'Rutherford Intermodal - Bethlehem Intermodal',\n",
       " '11': 'Croxton - 47th Street Intermodal',\n",
       " '6': '47th Street Intermodal - Maple Heights Intermodal',\n",
       " '12': 'Maple Heights Intermodal - 47th Street Intermodal',\n",
       " '13': 'Pitcairn Intermodal - Maple Heights Intermodal',\n",
       " '14': 'Rutherford Intermodal - Pitcairn Intermodal',\n",
       " '15': 'Bethlehem Intermodal - Rutherford Intermodal',\n",
       " '10': 'Bethlehem Intermodal - Croxton',\n",
       " '16': 'Croxton - Bethlehem Intermodal'}"
      ]
     },
     "execution_count": 5,
     "metadata": {},
     "output_type": "execute_result"
    }
   ],
   "source": [
    "r = requests.get(URL2, auth=TokenAuth(token))\n",
    "routes = r.json()\n",
    "routes"
   ]
  },
  {
   "cell_type": "code",
   "execution_count": 6,
   "id": "12596987-f8f6-4d9a-a6fd-726989247e85",
   "metadata": {},
   "outputs": [
    {
     "data": {
      "text/plain": [
       "{'17': '1 diesel : 1 future battery : 50 tank cars',\n",
       " '16': '2 diesel :  1 future battery : 50 tank cars',\n",
       " '15': '1 diesel : 2 battery : 50 tank cars',\n",
       " '14': '1 diesel : 1 battery : 50 tank cars',\n",
       " '13': '2 diesel : 1 battery : 50 tank cars',\n",
       " '12': '3 diesel : 50 tank cars',\n",
       " '11': '2 diesel : 50 tank cars',\n",
       " '52': 'fuel cell + future battery + 50 tank cars',\n",
       " '53': '3 diesel : 80 double loaded',\n",
       " '54': '3 diesel : 80 double empty',\n",
       " '55': '3 diesel : 1 future battery : 80 double loaded',\n",
       " '56': '3 diesel : 1 future battery : 80 double empty',\n",
       " '57': '2d+1b+80 double loaded',\n",
       " '58': '2d + 1b + 80 double empty',\n",
       " '59': '3 fc + 1 b + 80 double loaded'}"
      ]
     },
     "execution_count": 6,
     "metadata": {},
     "output_type": "execute_result"
    }
   ],
   "source": [
    "r = requests.get(URL3, auth=TokenAuth(token))\n",
    "consists = r.json()\n",
    "consists"
   ]
  },
  {
   "cell_type": "markdown",
   "id": "e44c80c6-70dc-4b88-be05-acd29a67cd1b",
   "metadata": {},
   "source": [
    "To evaluate the consist on a route, we also need a policy. The policies are currently not stored as an object in the database.\n",
    "    "
   ]
  },
  {
   "cell_type": "code",
   "execution_count": 6,
   "id": "60c0826e-18a2-40a7-ba66-1241eea69d87",
   "metadata": {},
   "outputs": [],
   "source": [
    "policy=[\"score_lp\",\"hybrid_lp\",\"user_fixed\"]"
   ]
  },
  {
   "cell_type": "code",
   "execution_count": 7,
   "id": "6d62030a-2fd1-4de6-9ed0-1acd163c0c70",
   "metadata": {},
   "outputs": [],
   "source": [
    "power_order=[\"diesel\",\"battery\",\"fuelcell\"]"
   ]
  },
  {
   "cell_type": "code",
   "execution_count": 8,
   "id": "39be38ba-d70e-445c-92e7-0bcce585076b",
   "metadata": {},
   "outputs": [],
   "source": [
    "braking=\"maximum_braking\""
   ]
  },
  {
   "cell_type": "code",
   "execution_count": 9,
   "id": "c894a616-132c-47a2-860f-1bebbf183852",
   "metadata": {},
   "outputs": [],
   "source": [
    "rapid=True"
   ]
  },
  {
   "cell_type": "code",
   "execution_count": 10,
   "id": "21b79097-69be-468b-bbe5-afc469942303",
   "metadata": {},
   "outputs": [],
   "source": [
    "max_speed=60"
   ]
  },
  {
   "cell_type": "code",
   "execution_count": 109,
   "id": "02097099-ec63-4326-be1e-65372d51a5f0",
   "metadata": {},
   "outputs": [],
   "source": [
    "data={'routes':12, 'consists': 55, 'policy_type':policy[2], 'power_order': power_order, 'rapid': rapid, 'max_speed': max_speed}"
   ]
  },
  {
   "cell_type": "code",
   "execution_count": 110,
   "id": "1ca5bb3d-c03b-465d-98f8-2c51f912bec2",
   "metadata": {},
   "outputs": [],
   "source": [
    "t=requests.post(URL4, data=data, auth=TokenAuth(token))"
   ]
  },
  {
   "cell_type": "code",
   "execution_count": 111,
   "id": "8d1323c2-695b-4a8e-9367-fcb63cb9ea5c",
   "metadata": {},
   "outputs": [
    {
     "data": {
      "text/plain": [
       "{'result_id': 565}"
      ]
     },
     "execution_count": 111,
     "metadata": {},
     "output_type": "execute_result"
    }
   ],
   "source": [
    "result = t.json()\n",
    "result"
   ]
  },
  {
   "cell_type": "code",
   "execution_count": 114,
   "id": "a0b39d2f-2b21-47aa-8620-342093439300",
   "metadata": {},
   "outputs": [],
   "source": [
    "r = requests.get(URL5 + str(result['result_id']), auth=TokenAuth(token))\n",
    "output = r.json()"
   ]
  },
  {
   "cell_type": "code",
   "execution_count": 115,
   "id": "aa77d991-c84b-4822-ab5b-d77389069f50",
   "metadata": {},
   "outputs": [],
   "source": [
    "d2 = output['data']\n",
    "d3 = {\n",
    "    'times': d2['times'][1:],\n",
    "    'distances': d2['distances'][1:],\n",
    "    'speeds': d2['speeds'][1:],\n",
    "    'power_total': d2['power']['total'],\n",
    "    'power_diesel': d2['power']['diesel'],\n",
    "    'power_battery': d2['power']['battery'],\n",
    "    'power_regen': d2['power']['regen'],\n",
    "    'power_track': d2['power']['track'],\n",
    "    'power_train': d2['power']['train'],\n",
    "    'power_lost': d2['power']['lost'],\n",
    "    'power_accel': d2['power']['accel']\n",
    "}\n",
    "    "
   ]
  },
  {
   "cell_type": "code",
   "execution_count": 116,
   "id": "e62f8547-8584-487f-a635-6d94fffc38da",
   "metadata": {},
   "outputs": [
    {
     "data": {
      "text/plain": [
       "7894"
      ]
     },
     "execution_count": 116,
     "metadata": {},
     "output_type": "execute_result"
    }
   ],
   "source": [
    "len(d3['speeds'])"
   ]
  },
  {
   "cell_type": "code",
   "execution_count": 117,
   "id": "4c4a973a-5a41-4a1d-a7d1-3f59930ed2e9",
   "metadata": {},
   "outputs": [],
   "source": [
    "df = pd.DataFrame(d3)"
   ]
  },
  {
   "cell_type": "code",
   "execution_count": 118,
   "id": "031ceead-e1fd-4924-a4d2-c4cb63fd6783",
   "metadata": {},
   "outputs": [],
   "source": [
    "df.to_csv('mph-c47-3d-1b-80f-60.csv', index=False)"
   ]
  },
  {
   "cell_type": "code",
   "execution_count": null,
   "id": "284f09f6-a76c-4db5-ad85-3e3f0df10750",
   "metadata": {},
   "outputs": [],
   "source": []
  }
 ],
 "metadata": {
  "kernelspec": {
   "display_name": "Python 3 (ipykernel)",
   "language": "python",
   "name": "python3"
  },
  "language_info": {
   "codemirror_mode": {
    "name": "ipython",
    "version": 3
   },
   "file_extension": ".py",
   "mimetype": "text/x-python",
   "name": "python",
   "nbconvert_exporter": "python",
   "pygments_lexer": "ipython3",
   "version": "3.11.9"
  }
 },
 "nbformat": 4,
 "nbformat_minor": 5
}
