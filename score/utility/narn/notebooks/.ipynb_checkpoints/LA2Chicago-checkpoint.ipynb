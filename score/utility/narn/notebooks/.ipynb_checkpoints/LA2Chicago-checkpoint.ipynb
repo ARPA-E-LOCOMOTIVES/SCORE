{
 "cells": [
  {
   "cell_type": "markdown",
   "id": "13c8c84f-2669-4faa-8ae4-a0ca95b769a7",
   "metadata": {},
   "source": [
    "# LA to Chicago\n",
    "The first step in the process generating a route form LA to Chicago is to load the NARN database. From this we can extract only the tracks that are either owned by or have usage rights granted to BNSF. We also need to \"starting\" and \"ending\" node. These have been determiend previously as 320,998 and 409,862 respectively."
   ]
  },
  {
   "cell_type": "code",
   "execution_count": 1,
   "id": "182c45d3-4b64-428c-864e-e3edd8874541",
   "metadata": {},
   "outputs": [],
   "source": [
    "import geopandas as gpd\n",
    "import networkx as nx\n",
    "from shapely import geometry, ops\n",
    "import numpy as np\n",
    "import matplotlib.pyplot as plt\n",
    "import requests\n",
    "import pandas as pd\n",
    "import folium"
   ]
  },
  {
   "cell_type": "code",
   "execution_count": 2,
   "id": "c4ea4ea4-1729-43f0-bfef-d76c796288b5",
   "metadata": {},
   "outputs": [
    {
     "name": "stderr",
     "output_type": "stream",
     "text": [
      "ERROR 1: PROJ: proj_create_from_database: Open of /opt/conda/share/proj failed\n"
     ]
    }
   ],
   "source": [
    "data = gpd.read_file(\"North_American_Rail_Network_Lines.geojson\")"
   ]
  },
  {
   "cell_type": "markdown",
   "id": "624d8d90-5db4-416d-b326-1fb6cfaf7337",
   "metadata": {},
   "source": [
    "There are a significant number of \"lines\" in this database."
   ]
  },
  {
   "cell_type": "code",
   "execution_count": 3,
   "id": "def79ebb-7f48-4a71-bf9b-4d4d6b8f5ad0",
   "metadata": {},
   "outputs": [
    {
     "data": {
      "text/plain": [
       "302988"
      ]
     },
     "execution_count": 3,
     "metadata": {},
     "output_type": "execute_result"
    }
   ],
   "source": [
    "len(data)"
   ]
  },
  {
   "cell_type": "markdown",
   "id": "deb58696-a271-4704-a984-3525d5e24c90",
   "metadata": {},
   "source": [
    "Lets first restict them to the ones that can be used by BNSF."
   ]
  },
  {
   "cell_type": "code",
   "execution_count": 5,
   "id": "10a3961e-35af-4c67-9352-ab7a348e1e82",
   "metadata": {},
   "outputs": [],
   "source": [
    "bnsf_data = data[data[['RROWNER1', 'RROWNER2', 'RROWNER3', 'TRKRGHTS1', 'TRKRGHTS2', 'TRKRGHTS3', 'TRKRGHTS4', 'TRKRGHTS5', 'TRKRGHTS6', 'TRKRGHTS7', 'TRKRGHTS8', 'TRKRGHTS9']].isin(['BNSF']).any(axis=1)]"
   ]
  },
  {
   "cell_type": "code",
   "execution_count": 6,
   "id": "82784330-3d4c-4a35-abf4-9a0a252285a2",
   "metadata": {},
   "outputs": [
    {
     "data": {
      "text/plain": [
       "42187"
      ]
     },
     "execution_count": 6,
     "metadata": {},
     "output_type": "execute_result"
    }
   ],
   "source": [
    "len(bnsf_data)"
   ]
  },
  {
   "cell_type": "code",
   "execution_count": 8,
   "id": "87542057-7ddc-4d17-9a3c-21948f44da5b",
   "metadata": {},
   "outputs": [],
   "source": [
    "start = bnsf_data[bnsf_data['TOFRANODE'].isin([320998])]"
   ]
  },
  {
   "cell_type": "code",
   "execution_count": null,
   "id": "8ff481e1-03e8-4f8b-843f-ee32731a6fac",
   "metadata": {},
   "outputs": [],
   "source": []
  }
 ],
 "metadata": {
  "kernelspec": {
   "display_name": "Python 3 (ipykernel)",
   "language": "python",
   "name": "python3"
  },
  "language_info": {
   "codemirror_mode": {
    "name": "ipython",
    "version": 3
   },
   "file_extension": ".py",
   "mimetype": "text/x-python",
   "name": "python",
   "nbconvert_exporter": "python",
   "pygments_lexer": "ipython3",
   "version": "3.11.6"
  }
 },
 "nbformat": 4,
 "nbformat_minor": 5
}
