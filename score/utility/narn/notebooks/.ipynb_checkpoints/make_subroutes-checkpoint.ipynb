{
 "cells": [
  {
   "cell_type": "markdown",
   "id": "c02350bc-986c-484f-b711-c248fb0ab34a",
   "metadata": {},
   "source": [
    "# make subroutes\n",
    "We have already made the long route from Chicago to Croxton that passes through the desired locations for intermodal yards along the way to act as idling/stopping locations. Wwithin the -e did the analysis to calculate the elvations, smooth them out, the gradients, limit them to be within the -0.02 and 0.02 and add the curvature information.\n",
    "\n",
    "Let's load the path for that route and take secitons of it to represent the route between the via points."
   ]
  },
  {
   "cell_type": "code",
   "execution_count": 1,
   "id": "236f9f9e-d211-40cf-9619-ad1208aa4142",
   "metadata": {},
   "outputs": [],
   "source": [
    "import geopandas as gpd\n",
    "import networkx as nx\n",
    "from shapely import geometry, ops\n",
    "import numpy as np\n",
    "import matplotlib.pyplot as plt\n",
    "import requests\n",
    "import pandas as pd\n",
    "import folium\n",
    "import time\n",
    "from requests.auth import AuthBase\n",
    "import os\n",
    "from scipy.spatial import distance"
   ]
  },
  {
   "cell_type": "code",
   "execution_count": 2,
   "id": "74822aa5-3636-44c2-9872-fb27cd011ee2",
   "metadata": {},
   "outputs": [],
   "source": [
    "URL =\"http://score-web-1:8000\"\n",
    "URL1 = URL+\"/api-token-auth/\"\n",
    "payload = {'username':'locomotives', 'password':'locomotives'}\n",
    "URL3 = URL+'/api/railroad/'\n",
    "URL4 = URL + \"/api/line/\"\n",
    "URL5 = URL + \"/api/route/add/\"\n",
    "URL6 = URL + \"/api/yard/all/\"\n",
    "URL7 = URL + \"/api/yard/\"\n",
    "URL8 = URL + \"/api/route/\"\n"
   ]
  },
  {
   "cell_type": "code",
   "execution_count": 3,
   "id": "79c103ca-2cc6-4571-b743-aa3396ad46ac",
   "metadata": {},
   "outputs": [],
   "source": [
    "t = requests.post(URL1, data=payload )\n",
    "token = t.json().get('token')"
   ]
  },
  {
   "cell_type": "code",
   "execution_count": 4,
   "id": "c262d0e1-4d13-4f27-82d5-46239d038ad0",
   "metadata": {},
   "outputs": [],
   "source": [
    "class TokenAuth(AuthBase):\n",
    "    \"\"\" Implements a custom authentication scheme. \"\"\"\n",
    "\n",
    "    def __init__(self, token):\n",
    "        self.token = token\n",
    "\n",
    "    def __call__(self, r):\n",
    "        \"\"\" Attach an API token to a custom auth header. \"\"\"\n",
    "        r.headers['Authorization'] = \"Token \" + f'{self.token}'\n",
    "        return r"
   ]
  },
  {
   "cell_type": "code",
   "execution_count": 5,
   "id": "809de322-326d-42bd-9217-eb50ea594732",
   "metadata": {},
   "outputs": [
    {
     "data": {
      "text/plain": [
       "[{'id': 1, 'code': 'BNSF', 'name': 'Burlington Northern and Santa Fe'},\n",
       " {'id': 2, 'code': 'CN', 'name': 'Canadian National Railway'},\n",
       " {'id': 3, 'code': 'CP', 'name': 'Canadian Pacific Railway'},\n",
       " {'id': 4, 'code': 'CSXT', 'name': 'CSX Transportation'},\n",
       " {'id': 5, 'code': 'NS', 'name': 'Norfolk Southern Railway'},\n",
       " {'id': 6, 'code': 'KCS', 'name': 'Kansas City Southern Railway'},\n",
       " {'id': 7, 'code': 'UP', 'name': 'Union Pacific'}]"
      ]
     },
     "execution_count": 5,
     "metadata": {},
     "output_type": "execute_result"
    }
   ],
   "source": [
    "r = requests.get(URL3, auth=TokenAuth(token))\n",
    "railroads=r.json()['results']\n",
    "railroads"
   ]
  },
  {
   "cell_type": "markdown",
   "id": "c4d3e809-26b7-4cc5-bcc7-7984208282b2",
   "metadata": {},
   "source": [
    "Get the long route, in this case it is route 5"
   ]
  },
  {
   "cell_type": "code",
   "execution_count": 41,
   "id": "2e6b7ac6-b03d-4401-b192-c7fed86d5de1",
   "metadata": {},
   "outputs": [],
   "source": [
    "res = requests.get(URL8+'5', auth=TokenAuth(token))"
   ]
  },
  {
   "cell_type": "code",
   "execution_count": 42,
   "id": "0ae3a5f1-2529-4616-93ab-3f29bd4304c7",
   "metadata": {},
   "outputs": [
    {
     "data": {
      "text/plain": [
       "200"
      ]
     },
     "execution_count": 42,
     "metadata": {},
     "output_type": "execute_result"
    }
   ],
   "source": [
    "res.status_code"
   ]
  },
  {
   "cell_type": "code",
   "execution_count": 43,
   "id": "84a44229-a2d1-4661-b853-0241613e1e21",
   "metadata": {},
   "outputs": [],
   "source": [
    "cc_route = res.json()['results']"
   ]
  },
  {
   "cell_type": "markdown",
   "id": "3b8a88cd-2028-46f1-8d53-b8c8c9883253",
   "metadata": {},
   "source": [
    "What are the availabel yards?"
   ]
  },
  {
   "cell_type": "code",
   "execution_count": 58,
   "id": "eb88c83f-88e3-4216-9f7c-c88517284e40",
   "metadata": {},
   "outputs": [
    {
     "data": {
      "text/plain": [
       "{'results': [{'id': 2, 'name': 'Rickenbacker'},\n",
       "  {'id': 4, 'name': 'Norfolk'},\n",
       "  {'id': 6, 'name': 'Savannah'},\n",
       "  {'id': 7, 'name': 'Macon'},\n",
       "  {'id': 8, 'name': 'Tyrone'},\n",
       "  {'id': 9, 'name': 'State College'},\n",
       "  {'id': 5, 'name': 'Suffolk'},\n",
       "  {'id': 1, 'name': 'Landers Yard'},\n",
       "  {'id': 14, 'name': 'Maple Heights Intermodal'},\n",
       "  {'id': 11, 'name': 'Bethlehem Intermodal'},\n",
       "  {'id': 13, 'name': 'Pitcairn Intermodal'},\n",
       "  {'id': 12, 'name': 'Rutherford Intermodal'},\n",
       "  {'id': 15, 'name': '47th Street Intermodal'},\n",
       "  {'id': 10, 'name': 'Croxton'}]}"
      ]
     },
     "execution_count": 58,
     "metadata": {},
     "output_type": "execute_result"
    }
   ],
   "source": [
    "res = requests.get(URL6, auth=TokenAuth(token))\n",
    "yards = res.json()\n",
    "yards"
   ]
  },
  {
   "cell_type": "code",
   "execution_count": 67,
   "id": "477ec18f-47cd-40c1-a342-118da0e7d77e",
   "metadata": {},
   "outputs": [
    {
     "data": {
      "text/plain": [
       "{'id': 10,\n",
       " 'code': 'CXT',\n",
       " 'name': 'Croxton',\n",
       " 'city': 'Croxton',\n",
       " 'state': 'NJ',\n",
       " 'location': 489625,\n",
       " 'owner': 5}"
      ]
     },
     "execution_count": 67,
     "metadata": {},
     "output_type": "execute_result"
    }
   ],
   "source": [
    "res = requests.get(URL7+'10', auth=TokenAuth(token))\n",
    "cxt = res.json()['results']\n",
    "cxt"
   ]
  },
  {
   "cell_type": "code",
   "execution_count": 60,
   "id": "0d5dc129-cbf4-43ec-9e48-7ecc32f14a05",
   "metadata": {},
   "outputs": [
    {
     "data": {
      "text/plain": [
       "{'id': 15,\n",
       " 'code': 'C47',\n",
       " 'name': '47th Street Intermodal',\n",
       " 'city': 'Chicago',\n",
       " 'state': 'IL',\n",
       " 'location': 414683,\n",
       " 'owner': 5}"
      ]
     },
     "execution_count": 60,
     "metadata": {},
     "output_type": "execute_result"
    }
   ],
   "source": [
    "res = requests.get(URL7+'15', auth=TokenAuth(token))\n",
    "c47 = res.json()['results']\n",
    "c47"
   ]
  },
  {
   "cell_type": "code",
   "execution_count": 33,
   "id": "055ee5bf-a44b-4b13-85a3-f1884f445c97",
   "metadata": {},
   "outputs": [
    {
     "data": {
      "text/plain": [
       "{'id': 11,\n",
       " 'code': 'ABM',\n",
       " 'name': 'Bethlehem Intermodal',\n",
       " 'city': 'Bethlehem',\n",
       " 'state': 'PA',\n",
       " 'location': 483750,\n",
       " 'owner': 5}"
      ]
     },
     "execution_count": 33,
     "metadata": {},
     "output_type": "execute_result"
    }
   ],
   "source": [
    "res = requests.get(URL7+'11', auth=TokenAuth(token))\n",
    "abm = res.json()['results']\n",
    "abm"
   ]
  },
  {
   "cell_type": "code",
   "execution_count": 34,
   "id": "c5bca6d6-6426-4379-a5ce-963deef7d5ff",
   "metadata": {},
   "outputs": [
    {
     "data": {
      "text/plain": [
       "{'id': 12,\n",
       " 'code': 'RFD',\n",
       " 'name': 'Rutherford Intermodal',\n",
       " 'city': 'Harrisburg',\n",
       " 'state': 'PA',\n",
       " 'location': 477836,\n",
       " 'owner': 5}"
      ]
     },
     "execution_count": 34,
     "metadata": {},
     "output_type": "execute_result"
    }
   ],
   "source": [
    "res = requests.get(URL7+'12', auth=TokenAuth(token))\n",
    "rfd = res.json()['results']\n",
    "rfd"
   ]
  },
  {
   "cell_type": "code",
   "execution_count": 35,
   "id": "272e2882-6f03-4dea-bc04-c715a4fcf8e4",
   "metadata": {},
   "outputs": [
    {
     "data": {
      "text/plain": [
       "{'id': 13,\n",
       " 'code': 'PTC',\n",
       " 'name': 'Pitcairn Intermodal',\n",
       " 'city': 'Pittsburgh',\n",
       " 'state': 'PA',\n",
       " 'location': 464679,\n",
       " 'owner': 5}"
      ]
     },
     "execution_count": 35,
     "metadata": {},
     "output_type": "execute_result"
    }
   ],
   "source": [
    "res = requests.get(URL7+'13', auth=TokenAuth(token))\n",
    "pit = res.json()['results']\n",
    "pit"
   ]
  },
  {
   "cell_type": "code",
   "execution_count": 36,
   "id": "1c2856bf-d6a1-4ec2-9cb1-b75136eaa667",
   "metadata": {},
   "outputs": [
    {
     "data": {
      "text/plain": [
       "{'id': 14,\n",
       " 'code': 'MPH',\n",
       " 'name': 'Maple Heights Intermodal',\n",
       " 'city': 'Cleveland',\n",
       " 'state': 'OH',\n",
       " 'location': 450869,\n",
       " 'owner': 5}"
      ]
     },
     "execution_count": 36,
     "metadata": {},
     "output_type": "execute_result"
    }
   ],
   "source": [
    "res = requests.get(URL7+'14', auth=TokenAuth(token))\n",
    "mph = res.json()['results']\n",
    "mph"
   ]
  },
  {
   "cell_type": "code",
   "execution_count": 46,
   "id": "cb1001ea-aa5d-4113-b545-acd4bfd5dfbd",
   "metadata": {},
   "outputs": [
    {
     "data": {
      "text/plain": [
       "array(True)"
      ]
     },
     "execution_count": 46,
     "metadata": {},
     "output_type": "execute_result"
    }
   ],
   "source": [
    "np.isin(rfd['location'], cc_route['path'])"
   ]
  },
  {
   "cell_type": "code",
   "execution_count": 47,
   "id": "ba12c316-5389-475c-83ba-1f18e5e70dde",
   "metadata": {},
   "outputs": [],
   "source": [
    "path = np.array(cc_route['path'])"
   ]
  },
  {
   "cell_type": "code",
   "execution_count": 48,
   "id": "0e73d8cd-8577-4ac1-b479-fab0ecd7a1bc",
   "metadata": {},
   "outputs": [
    {
     "data": {
      "text/plain": [
       "array([414698, 414683, 414632, 414633, 414644, 414638, 414639, 414652,\n",
       "       414753, 414761, 414866, 415239, 415280, 415303, 415318, 415330,\n",
       "       415355, 415381, 415399, 415487, 415492, 415495, 415505, 415506,\n",
       "       415510, 415509, 415507, 415528, 415583, 415607, 415725, 415741,\n",
       "       415748, 415814, 415857, 415920, 415929, 415938, 416002, 416020,\n",
       "       416120, 416178, 416288, 416298, 416454, 416482, 416507, 416793,\n",
       "       416814, 416842, 417802, 418162, 418352, 418472, 418490, 418491,\n",
       "       418618, 418941, 419002, 419243, 420054, 420283, 420405, 421722,\n",
       "       422239, 422742, 422762, 422856, 422879, 423035, 423231, 423827,\n",
       "       423919, 424699, 425113, 425215, 425228, 425437, 425574, 425758,\n",
       "       425808, 425826, 425919, 425920, 426150, 426668, 427157, 427323,\n",
       "       427680, 427701, 428055, 428105, 428182, 428253, 428261, 428462,\n",
       "       428784, 428792, 428994, 429002, 429159, 429161, 429164, 429176,\n",
       "       429266, 429287, 429306, 429327, 429418, 429456, 429465, 429534,\n",
       "       429637, 429708, 429847, 429932, 430054, 430260, 430310, 430551,\n",
       "       430661, 430885, 431063, 431424, 431493, 431580, 431880, 432820,\n",
       "       433309, 433486, 433704, 433815, 433825, 433996, 434360, 434665,\n",
       "       434891, 435692, 435801, 435805, 435807, 435809, 436321, 436343,\n",
       "       436372, 436610, 436712, 437267, 437409, 437469, 437476, 437664,\n",
       "       438052, 438369, 438389, 438763, 438787, 438796, 438857, 438891,\n",
       "       438899, 438903, 438992, 438999, 439148, 439172, 439240, 439259,\n",
       "       439404, 439454, 439465, 440061, 440069, 440169, 440176, 440269,\n",
       "       440416, 440545, 440780, 440951, 441001, 441399, 441434, 441699,\n",
       "       442309, 442670, 442710, 442718, 442723, 442726, 442734, 442739,\n",
       "       442742, 442745, 442772, 442882, 442921, 442929, 442938, 442944,\n",
       "       443049, 443092, 443098, 443302, 443347, 443534, 443856, 443867,\n",
       "       444036, 444394, 444480, 444593, 444719, 445606, 445649, 445831,\n",
       "       445839, 445884, 446083, 446162, 446231, 446294, 446312, 446667,\n",
       "       446719, 446771, 446787, 446828, 446840, 446914, 447009, 447103,\n",
       "       447284, 447761, 448101, 448203, 448449, 448470, 448620, 448636,\n",
       "       448694, 448699, 448705, 448721, 448810, 448813, 448857, 448869,\n",
       "       448879, 448888, 449035, 449067, 449150, 449368, 449923, 450095,\n",
       "       450199, 450365, 450443, 497817, 450762, 450781, 450796, 450808,\n",
       "       450869, 451016, 451072, 451196, 451261, 451307, 451314, 451332,\n",
       "       451339, 451377, 451434, 451501, 451517, 451526, 451848, 451856,\n",
       "       451894, 451995, 452188, 452452, 452581, 452635, 452863, 452952,\n",
       "       452990, 453050, 453090, 453219, 453371, 453591, 453685, 453698,\n",
       "       453701, 453708, 453741, 453744, 453915, 453916, 454064, 454386,\n",
       "       454652, 454738, 455080, 455725, 455737, 455870, 455987, 456031,\n",
       "       456204, 456850, 456929, 457147, 457287, 457553, 457566, 458302,\n",
       "       458320, 458218, 458384, 458439, 458456, 458479, 458634, 458663,\n",
       "       458664, 458669, 458670, 458676, 458681, 458787, 458791, 458853,\n",
       "       458861, 458879, 458883, 458886, 458891, 458895, 458950, 458957,\n",
       "       458969, 458981, 458988, 459019, 459022, 459039, 459046, 459053,\n",
       "       459056, 459058, 459064, 459068, 459073, 459078, 459086, 459186,\n",
       "       459192, 459196, 459218, 459224, 459261, 459290, 459300, 459323,\n",
       "       459328, 459338, 459354, 459363, 459369, 459513, 459529, 459544,\n",
       "       459550, 459556, 459539, 459700, 459791, 459824, 459827, 459830,\n",
       "       459842, 459897, 459977, 460007, 460259, 460393, 460821, 460898,\n",
       "       460947, 461054, 461059, 461131, 461277, 461306, 461422, 461467,\n",
       "       461600, 461715, 462230, 462616, 462673, 462696, 462875, 462968,\n",
       "       462974, 463019, 463519, 463937, 464237, 464314, 464388, 464421,\n",
       "       464679, 464683, 464687, 464690, 464999, 465100, 465140, 465229,\n",
       "       465425, 497793, 465479, 465486, 465507, 465593, 465708, 465725,\n",
       "       465762, 465775, 465798, 465869, 466088, 466090, 466120, 466158,\n",
       "       466223, 466311, 466339, 466356, 466383, 466403, 466405, 466430,\n",
       "       466432, 466452, 466574, 466862, 466882, 466887, 466907, 467237,\n",
       "       467264, 467498, 467644, 467654, 467652, 467833, 468117, 468147,\n",
       "       468155, 468164, 468171, 468175, 468223, 468316, 469085, 469100,\n",
       "       469127, 469618, 469641, 469746, 469765, 469936, 470026, 470054,\n",
       "       470056, 470062, 470091, 470127, 470139, 470154, 470440, 470465,\n",
       "       470472, 470478, 470557, 470914, 470959, 470986, 471043, 471108,\n",
       "       471110, 471143, 471149, 471282, 471284, 471288, 471330, 471341,\n",
       "       471360, 471460, 471492, 471616, 471741, 471748, 471767, 471770,\n",
       "       471808, 472427, 472418, 472541, 472617, 472641, 497782, 473105,\n",
       "       473545, 473657, 473901, 474236, 474602, 474631, 474630, 475343,\n",
       "       475574, 475652, 475680, 476002, 475985, 475988, 476432, 476439,\n",
       "       476441, 476445, 476450, 476591, 476779, 476833, 496955, 476879,\n",
       "       476880, 476881, 476882, 476885, 476888, 476890, 476895, 476901,\n",
       "       476905, 476951, 476952, 476960, 476962, 476963, 476972, 476975,\n",
       "       476979, 476998, 477001, 477015, 477018, 477021, 477027, 477032,\n",
       "       477037, 477041, 477044, 477139, 477180, 477394, 477836, 477883,\n",
       "       477944, 478051, 478104, 478262, 478285, 478295, 478381, 478391,\n",
       "       478430, 478504, 478512, 478540, 478610, 478751, 478937, 478938,\n",
       "       478940, 478945, 479046, 479092, 479164, 479166, 479279, 479522,\n",
       "       479539, 479560, 479578, 479677, 479690, 479704, 479708, 479794,\n",
       "       479829, 479900, 479904, 480138, 480179, 480371, 480388, 480473,\n",
       "       480542, 480569, 480757, 480767, 480900, 481123, 481292, 481316,\n",
       "       481314, 481326, 481370, 481368, 481376, 481377, 481380, 481383,\n",
       "       481429, 481571, 481743, 481825, 481992, 482136, 482272, 482431,\n",
       "       482552, 482777, 482846, 483193, 483236, 483309, 483312, 483327,\n",
       "       483592, 483618, 483735, 483750, 483808, 484051, 484110, 484334,\n",
       "       484393, 484447, 484458, 484512, 484586, 484888, 484915, 484921,\n",
       "       484926, 485066, 485245, 485296, 485355, 485514, 485517, 485707,\n",
       "       485764, 485901, 485937, 486120, 486124, 486194, 486213, 486312,\n",
       "       486320, 486329, 486342, 486375, 486376, 486378, 486380, 486382,\n",
       "       486384, 486388, 486478, 486515, 497624, 486632, 486646, 486681,\n",
       "       486702, 497227, 497231, 486983, 487108, 487171, 497629, 487189,\n",
       "       487210, 487219, 487251, 487302, 497633, 487495, 487660, 487674,\n",
       "       487769, 487773, 487794, 488009, 488036, 488100, 488108, 488324,\n",
       "       488769, 488913, 488916, 488934, 488944, 488954, 489065, 489224,\n",
       "       489415, 489422, 489429, 489444, 489470, 489527, 489571, 489578,\n",
       "       489590, 489630, 489636, 489625, 489592, 489565])"
      ]
     },
     "execution_count": 48,
     "metadata": {},
     "output_type": "execute_result"
    }
   ],
   "source": [
    "path"
   ]
  },
  {
   "cell_type": "code",
   "execution_count": 51,
   "id": "4a6b13d1-09a1-451c-a25d-aaa1ccc8d5f8",
   "metadata": {},
   "outputs": [
    {
     "data": {
      "text/plain": [
       "574"
      ]
     },
     "execution_count": 51,
     "metadata": {},
     "output_type": "execute_result"
    }
   ],
   "source": [
    "rfd_index = np.where(path==rfd['location'])[0][0]\n",
    "rfd_index"
   ]
  },
  {
   "cell_type": "code",
   "execution_count": 62,
   "id": "0391bc42-fe44-4346-bf22-672ae70162aa",
   "metadata": {},
   "outputs": [],
   "source": [
    "new_path=list(path[1:-2])"
   ]
  },
  {
   "cell_type": "code",
   "execution_count": 72,
   "id": "8f78c00f-0c52-4125-a70e-c4bad0bebff6",
   "metadata": {},
   "outputs": [
    {
     "data": {
      "text/plain": [
       "0"
      ]
     },
     "execution_count": 72,
     "metadata": {},
     "output_type": "execute_result"
    }
   ],
   "source": [
    "c47_index = np.where(np.array(new_path)==c47['location'])[0][0]\n",
    "c47_index"
   ]
  },
  {
   "cell_type": "code",
   "execution_count": 73,
   "id": "2dfd13f0-fac0-441b-abf4-5751f6a6d7f4",
   "metadata": {},
   "outputs": [
    {
     "data": {
      "text/plain": [
       "263"
      ]
     },
     "execution_count": 73,
     "metadata": {},
     "output_type": "execute_result"
    }
   ],
   "source": [
    "mph_index = np.where(np.array(new_path)==mph['location'])[0][0]\n",
    "mph_index"
   ]
  },
  {
   "cell_type": "markdown",
   "id": "b0169df6-5883-454e-a2e1-0ac1c72818b8",
   "metadata": {},
   "source": [
    "The path needs to be modified slightly - it still included some of the runout points."
   ]
  },
  {
   "cell_type": "code",
   "execution_count": 74,
   "id": "67ffba5b-05fa-4819-9fba-1f5831262fe5",
   "metadata": {},
   "outputs": [
    {
     "data": {
      "text/plain": [
       "739"
      ]
     },
     "execution_count": 74,
     "metadata": {},
     "output_type": "execute_result"
    }
   ],
   "source": [
    "len(new_path)"
   ]
  },
  {
   "cell_type": "code",
   "execution_count": 75,
   "id": "90e0bf85-b49e-4aa6-91fb-ddbcb2a28317",
   "metadata": {},
   "outputs": [],
   "source": [
    "route = {\n",
    "    'origin': 15,\n",
    "    'destination': 10,\n",
    "    'owner': 5,\n",
    "    'path': new_path\n",
    "}"
   ]
  },
  {
   "cell_type": "code",
   "execution_count": 76,
   "id": "a00af9cf-e1fb-47c0-9f7f-98dbe9405b91",
   "metadata": {},
   "outputs": [
    {
     "data": {
      "text/plain": [
       "{'results': 5}"
      ]
     },
     "execution_count": 76,
     "metadata": {},
     "output_type": "execute_result"
    }
   ],
   "source": [
    "res = requests.post(URL5, data=route, auth=TokenAuth(token))\n",
    "res.json()"
   ]
  },
  {
   "cell_type": "code",
   "execution_count": 79,
   "id": "ee86be7f-de40-48d8-ba50-3b97bb45196c",
   "metadata": {},
   "outputs": [
    {
     "data": {
      "text/plain": [
       "450869"
      ]
     },
     "execution_count": 79,
     "metadata": {},
     "output_type": "execute_result"
    }
   ],
   "source": [
    "mph['location']"
   ]
  },
  {
   "cell_type": "code",
   "execution_count": 83,
   "id": "0aa2f028-2bd8-4ed8-9a22-c3b68cc4b886",
   "metadata": {},
   "outputs": [],
   "source": [
    "c47_mph_path = new_path[c47_index:mph_index+1] # need to add to the end to include it in the slice\n",
    "c47_mph_route = {\n",
    "    'origin': 15,\n",
    "    'destination': mph['id'],\n",
    "    'owner': 5,\n",
    "    'path': c47_mph_path\n",
    "}"
   ]
  },
  {
   "cell_type": "code",
   "execution_count": 84,
   "id": "d1e6da33-0f86-4bc4-9791-360e99cb4c62",
   "metadata": {},
   "outputs": [
    {
     "data": {
      "text/plain": [
       "{'results': 6}"
      ]
     },
     "execution_count": 84,
     "metadata": {},
     "output_type": "execute_result"
    }
   ],
   "source": [
    "res = requests.post(URL5, data=c47_mph_route, auth=TokenAuth(token))\n",
    "res.json()"
   ]
  },
  {
   "cell_type": "code",
   "execution_count": 87,
   "id": "ca9f5d0f-df20-4091-aec7-ba2191b57607",
   "metadata": {},
   "outputs": [
    {
     "data": {
      "text/plain": [
       "415"
      ]
     },
     "execution_count": 87,
     "metadata": {},
     "output_type": "execute_result"
    }
   ],
   "source": [
    "pit_index = np.where(np.array(new_path)==pit['location'])[0][0]\n",
    "pit_index"
   ]
  },
  {
   "cell_type": "code",
   "execution_count": 90,
   "id": "559806bb-c73f-454a-822a-522622fd6ac4",
   "metadata": {},
   "outputs": [],
   "source": [
    "mph_pit_path = new_path[mph_index:pit_index+1]\n",
    "mph_pit_route = {\n",
    "    'origin': mph['id'],\n",
    "    'destination': pit['id'],\n",
    "    'owner': 5,\n",
    "    'path': mph_pit_path\n",
    "}"
   ]
  },
  {
   "cell_type": "code",
   "execution_count": 91,
   "id": "e1720ff3-a8ff-47c3-afc7-a568a4069800",
   "metadata": {},
   "outputs": [
    {
     "data": {
      "text/plain": [
       "{'results': 7}"
      ]
     },
     "execution_count": 91,
     "metadata": {},
     "output_type": "execute_result"
    }
   ],
   "source": [
    "res = requests.post(URL5, data=mph_pit_route, auth=TokenAuth(token))\n",
    "res.json()"
   ]
  },
  {
   "cell_type": "code",
   "execution_count": 92,
   "id": "cdd37642-58bf-4968-8b87-4013a40ea3cf",
   "metadata": {},
   "outputs": [
    {
     "data": {
      "text/plain": [
       "573"
      ]
     },
     "execution_count": 92,
     "metadata": {},
     "output_type": "execute_result"
    }
   ],
   "source": [
    "rfd_index = np.where(np.array(new_path)==rfd['location'])[0][0]\n",
    "rfd_index"
   ]
  },
  {
   "cell_type": "code",
   "execution_count": 93,
   "id": "78fea37f-c7a8-4423-b29b-6dab64893fc0",
   "metadata": {},
   "outputs": [],
   "source": [
    "pit_rfd_path = new_path[pit_index:rfd_index+1]\n",
    "pit_rfd_route = {\n",
    "    'origin': pit['id'],\n",
    "    'destination': rfd['id'],\n",
    "    'owner': 5,\n",
    "    'path': pit_rfd_path\n",
    "}"
   ]
  },
  {
   "cell_type": "code",
   "execution_count": 94,
   "id": "d808912e-d996-4d08-8ab9-38e0166608d7",
   "metadata": {},
   "outputs": [
    {
     "data": {
      "text/plain": [
       "{'results': 8}"
      ]
     },
     "execution_count": 94,
     "metadata": {},
     "output_type": "execute_result"
    }
   ],
   "source": [
    "res = requests.post(URL5, data=pit_rfd_route, auth=TokenAuth(token))\n",
    "res.json()"
   ]
  },
  {
   "cell_type": "code",
   "execution_count": 95,
   "id": "17a6873b-9de7-46ed-a268-ade6f14b6db3",
   "metadata": {},
   "outputs": [
    {
     "data": {
      "text/plain": [
       "650"
      ]
     },
     "execution_count": 95,
     "metadata": {},
     "output_type": "execute_result"
    }
   ],
   "source": [
    "abm_index = np.where(np.array(new_path)==abm['location'])[0][0]\n",
    "abm_index"
   ]
  },
  {
   "cell_type": "code",
   "execution_count": 96,
   "id": "f8eb24ee-4e40-4e66-a9e4-e4133ad9b858",
   "metadata": {},
   "outputs": [],
   "source": [
    "rfd_abm_path = new_path[rfd_index:abm_index+1]\n",
    "rfd_abm_route = {\n",
    "    'origin': rfd['id'],\n",
    "    'destination': abm['id'],\n",
    "    'owner': 5,\n",
    "    'path': rfd_abm_path\n",
    "}"
   ]
  },
  {
   "cell_type": "code",
   "execution_count": 97,
   "id": "256cf12a-e4f5-418e-bf3c-d718f4e555a8",
   "metadata": {},
   "outputs": [
    {
     "data": {
      "text/plain": [
       "{'results': 9}"
      ]
     },
     "execution_count": 97,
     "metadata": {},
     "output_type": "execute_result"
    }
   ],
   "source": [
    "res = requests.post(URL5, data=rfd_abm_route, auth=TokenAuth(token))\n",
    "res.json()"
   ]
  },
  {
   "cell_type": "code",
   "execution_count": 101,
   "id": "71d11668-11cf-4835-b94d-5a9395dcf53a",
   "metadata": {},
   "outputs": [
    {
     "data": {
      "text/plain": [
       "738"
      ]
     },
     "execution_count": 101,
     "metadata": {},
     "output_type": "execute_result"
    }
   ],
   "source": [
    "cxt_index = np.where(np.array(new_path)==cxt['location'])[0][0]\n",
    "cxt_index"
   ]
  },
  {
   "cell_type": "code",
   "execution_count": 103,
   "id": "e83bc148-53c8-4d26-9bfd-e41e5a59252a",
   "metadata": {},
   "outputs": [],
   "source": [
    "abm_cxt_path = new_path[abm_index:cxt_index+1]\n",
    "abm_cxt_route = {\n",
    "    'origin': abm['id'],\n",
    "    'destination': cxt['id'],\n",
    "    'owner': 5,\n",
    "    'path': abm_cxt_path\n",
    "}"
   ]
  },
  {
   "cell_type": "code",
   "execution_count": 104,
   "id": "8f04ff89-6ec2-49f8-b80d-5c3d685618ae",
   "metadata": {},
   "outputs": [
    {
     "data": {
      "text/plain": [
       "{'results': 10}"
      ]
     },
     "execution_count": 104,
     "metadata": {},
     "output_type": "execute_result"
    }
   ],
   "source": [
    "res = requests.post(URL5, data=abm_cxt_route, auth=TokenAuth(token))\n",
    "res.json()"
   ]
  },
  {
   "cell_type": "code",
   "execution_count": null,
   "id": "b399c917-1f52-48a1-8770-19b3a92e78ef",
   "metadata": {},
   "outputs": [],
   "source": []
  }
 ],
 "metadata": {
  "kernelspec": {
   "display_name": "Python 3 (ipykernel)",
   "language": "python",
   "name": "python3"
  },
  "language_info": {
   "codemirror_mode": {
    "name": "ipython",
    "version": 3
   },
   "file_extension": ".py",
   "mimetype": "text/x-python",
   "name": "python",
   "nbconvert_exporter": "python",
   "pygments_lexer": "ipython3",
   "version": "3.11.6"
  }
 },
 "nbformat": 4,
 "nbformat_minor": 5
}
