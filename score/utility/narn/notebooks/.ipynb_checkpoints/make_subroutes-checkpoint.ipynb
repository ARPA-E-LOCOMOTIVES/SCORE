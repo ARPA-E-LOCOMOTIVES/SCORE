{
 "cells": [
  {
   "cell_type": "markdown",
   "id": "c02350bc-986c-484f-b711-c248fb0ab34a",
   "metadata": {},
   "source": [
    "# make subroutes\n",
    "We have already made the long route from Chicago to Croxton that passes through the desired locations for intermodal yards along the way to act as idling/stopping locations. Wwithin the -e did the analysis to calculate the elvations, smooth them out, the gradients, limit them to be within the -0.02 and 0.02 and add the curvature information.\n",
    "\n",
    "Let's load the path for that route and take secitons of it to represent the route between the via points."
   ]
  },
  {
   "cell_type": "code",
   "execution_count": 2,
   "id": "236f9f9e-d211-40cf-9619-ad1208aa4142",
   "metadata": {},
   "outputs": [],
   "source": [
    "import geopandas as gpd\n",
    "import networkx as nx\n",
    "from shapely import geometry, ops\n",
    "import numpy as np\n",
    "import matplotlib.pyplot as plt\n",
    "import requests\n",
    "import pandas as pd\n",
    "import folium\n",
    "import time\n",
    "from requests.auth import AuthBase\n",
    "import os\n",
    "from scipy.spatial import distance"
   ]
  },
  {
   "cell_type": "code",
   "execution_count": 3,
   "id": "74822aa5-3636-44c2-9872-fb27cd011ee2",
   "metadata": {},
   "outputs": [],
   "source": [
    "URL =\"http://score-web-1:8000\"\n",
    "URL1 = URL+\"/api-token-auth/\"\n",
    "payload = {'username':'locomotives', 'password':'locomotives'}\n",
    "URL2 = URL+\"/api/route/list/\"\n",
    "URL3 = URL+'/api/railroad/'\n",
    "URL4 = URL + \"/api/line/\"\n",
    "URL5 = URL + \"/api/route/add/\"\n",
    "URL6 = URL + \"/api/yard/all/\"\n",
    "URL7 = URL + \"/api/yard/\"\n",
    "URL8 = URL + \"/api/route/\"\n",
    "\n"
   ]
  },
  {
   "cell_type": "code",
   "execution_count": 4,
   "id": "79c103ca-2cc6-4571-b743-aa3396ad46ac",
   "metadata": {},
   "outputs": [],
   "source": [
    "t = requests.post(URL1, data=payload )\n",
    "token = t.json().get('token')"
   ]
  },
  {
   "cell_type": "code",
   "execution_count": 5,
   "id": "c262d0e1-4d13-4f27-82d5-46239d038ad0",
   "metadata": {},
   "outputs": [],
   "source": [
    "class TokenAuth(AuthBase):\n",
    "    \"\"\" Implements a custom authentication scheme. \"\"\"\n",
    "\n",
    "    def __init__(self, token):\n",
    "        self.token = token\n",
    "\n",
    "    def __call__(self, r):\n",
    "        \"\"\" Attach an API token to a custom auth header. \"\"\"\n",
    "        r.headers['Authorization'] = \"Token \" + f'{self.token}'\n",
    "        return r"
   ]
  },
  {
   "cell_type": "code",
   "execution_count": 6,
   "id": "809de322-326d-42bd-9217-eb50ea594732",
   "metadata": {},
   "outputs": [
    {
     "data": {
      "text/plain": [
       "[{'id': 1, 'code': 'BNSF', 'name': 'Burlington Northern and Santa Fe'},\n",
       " {'id': 2, 'code': 'CN', 'name': 'Canadian National Railway'},\n",
       " {'id': 3, 'code': 'CP', 'name': 'Canadian Pacific Railway'},\n",
       " {'id': 4, 'code': 'CSXT', 'name': 'CSX Transportation'},\n",
       " {'id': 5, 'code': 'NS', 'name': 'Norfolk Southern Railway'},\n",
       " {'id': 6, 'code': 'KCS', 'name': 'Kansas City Southern Railway'},\n",
       " {'id': 7, 'code': 'UP', 'name': 'Union Pacific'}]"
      ]
     },
     "execution_count": 6,
     "metadata": {},
     "output_type": "execute_result"
    }
   ],
   "source": [
    "r = requests.get(URL3, auth=TokenAuth(token))\n",
    "railroads=r.json()['results']\n",
    "railroads"
   ]
  },
  {
   "cell_type": "code",
   "execution_count": 7,
   "id": "d66de2b2-52d0-4ce1-aa2a-460ab6e87b43",
   "metadata": {},
   "outputs": [
    {
     "data": {
      "text/plain": [
       "{'4': 'Tyrone - State College',\n",
       " '1': 'Landers Yard - Rickenbacker',\n",
       " '2': 'Norfolk - Suffolk',\n",
       " '3': 'Savannah - Macon',\n",
       " '5': '47th Street Intermodal - Croxton',\n",
       " '6': '47th Street Intermodal - Maple Heights Intermodal',\n",
       " '7': 'Maple Heights Intermodal - Pitcairn Intermodal',\n",
       " '8': 'Pitcairn Intermodal - Rutherford Intermodal',\n",
       " '9': 'Rutherford Intermodal - Bethlehem Intermodal',\n",
       " '10': 'Bethlehem Intermodal - Croxton',\n",
       " '12': 'Maple Heights Intermodal - 47th Street Intermodal',\n",
       " '13': 'Pitcairn Intermodal - Maple Heights Intermodal',\n",
       " '11': 'Croxton - 47th Street Intermodal'}"
      ]
     },
     "execution_count": 7,
     "metadata": {},
     "output_type": "execute_result"
    }
   ],
   "source": [
    "r = requests.get(URL2, auth=TokenAuth(token))\n",
    "routes = r.json()\n",
    "routes"
   ]
  },
  {
   "cell_type": "markdown",
   "id": "c4d3e809-26b7-4cc5-bcc7-7984208282b2",
   "metadata": {},
   "source": [
    "Get the long route, in this case it is route 5"
   ]
  },
  {
   "cell_type": "code",
   "execution_count": 8,
   "id": "2e6b7ac6-b03d-4401-b192-c7fed86d5de1",
   "metadata": {},
   "outputs": [],
   "source": [
    "res = requests.get(URL8+'5', auth=TokenAuth(token))\n",
    "cc_route = res.json()['results']"
   ]
  },
  {
   "cell_type": "markdown",
   "id": "3b8a88cd-2028-46f1-8d53-b8c8c9883253",
   "metadata": {},
   "source": [
    "What are the availabel yards?"
   ]
  },
  {
   "cell_type": "code",
   "execution_count": 9,
   "id": "eb88c83f-88e3-4216-9f7c-c88517284e40",
   "metadata": {},
   "outputs": [
    {
     "data": {
      "text/plain": [
       "{'results': [{'id': 2, 'name': 'Rickenbacker'},\n",
       "  {'id': 4, 'name': 'Norfolk'},\n",
       "  {'id': 6, 'name': 'Savannah'},\n",
       "  {'id': 7, 'name': 'Macon'},\n",
       "  {'id': 8, 'name': 'Tyrone'},\n",
       "  {'id': 9, 'name': 'State College'},\n",
       "  {'id': 5, 'name': 'Suffolk'},\n",
       "  {'id': 1, 'name': 'Landers Yard'},\n",
       "  {'id': 14, 'name': 'Maple Heights Intermodal'},\n",
       "  {'id': 11, 'name': 'Bethlehem Intermodal'},\n",
       "  {'id': 13, 'name': 'Pitcairn Intermodal'},\n",
       "  {'id': 12, 'name': 'Rutherford Intermodal'},\n",
       "  {'id': 15, 'name': '47th Street Intermodal'},\n",
       "  {'id': 10, 'name': 'Croxton'}]}"
      ]
     },
     "execution_count": 9,
     "metadata": {},
     "output_type": "execute_result"
    }
   ],
   "source": [
    "res = requests.get(URL6, auth=TokenAuth(token))\n",
    "yards = res.json()\n",
    "yards"
   ]
  },
  {
   "cell_type": "code",
   "execution_count": 10,
   "id": "477ec18f-47cd-40c1-a342-118da0e7d77e",
   "metadata": {},
   "outputs": [
    {
     "data": {
      "text/plain": [
       "{'id': 10,\n",
       " 'code': 'CXT',\n",
       " 'name': 'Croxton',\n",
       " 'city': 'Croxton',\n",
       " 'state': 'NJ',\n",
       " 'location': 489625,\n",
       " 'owner': 5}"
      ]
     },
     "execution_count": 10,
     "metadata": {},
     "output_type": "execute_result"
    }
   ],
   "source": [
    "res = requests.get(URL7+'10', auth=TokenAuth(token))\n",
    "cxt = res.json()['results']\n",
    "cxt"
   ]
  },
  {
   "cell_type": "code",
   "execution_count": 11,
   "id": "0d5dc129-cbf4-43ec-9e48-7ecc32f14a05",
   "metadata": {},
   "outputs": [
    {
     "data": {
      "text/plain": [
       "{'id': 15,\n",
       " 'code': 'C47',\n",
       " 'name': '47th Street Intermodal',\n",
       " 'city': 'Chicago',\n",
       " 'state': 'IL',\n",
       " 'location': 414683,\n",
       " 'owner': 5}"
      ]
     },
     "execution_count": 11,
     "metadata": {},
     "output_type": "execute_result"
    }
   ],
   "source": [
    "res = requests.get(URL7+'15', auth=TokenAuth(token))\n",
    "c47 = res.json()['results']\n",
    "c47"
   ]
  },
  {
   "cell_type": "code",
   "execution_count": 12,
   "id": "055ee5bf-a44b-4b13-85a3-f1884f445c97",
   "metadata": {},
   "outputs": [
    {
     "data": {
      "text/plain": [
       "{'id': 11,\n",
       " 'code': 'ABM',\n",
       " 'name': 'Bethlehem Intermodal',\n",
       " 'city': 'Bethlehem',\n",
       " 'state': 'PA',\n",
       " 'location': 483750,\n",
       " 'owner': 5}"
      ]
     },
     "execution_count": 12,
     "metadata": {},
     "output_type": "execute_result"
    }
   ],
   "source": [
    "res = requests.get(URL7+'11', auth=TokenAuth(token))\n",
    "abm = res.json()['results']\n",
    "abm"
   ]
  },
  {
   "cell_type": "code",
   "execution_count": 13,
   "id": "c5bca6d6-6426-4379-a5ce-963deef7d5ff",
   "metadata": {},
   "outputs": [
    {
     "data": {
      "text/plain": [
       "{'id': 12,\n",
       " 'code': 'RFD',\n",
       " 'name': 'Rutherford Intermodal',\n",
       " 'city': 'Harrisburg',\n",
       " 'state': 'PA',\n",
       " 'location': 477836,\n",
       " 'owner': 5}"
      ]
     },
     "execution_count": 13,
     "metadata": {},
     "output_type": "execute_result"
    }
   ],
   "source": [
    "res = requests.get(URL7+'12', auth=TokenAuth(token))\n",
    "rfd = res.json()['results']\n",
    "rfd"
   ]
  },
  {
   "cell_type": "code",
   "execution_count": 41,
   "id": "272e2882-6f03-4dea-bc04-c715a4fcf8e4",
   "metadata": {},
   "outputs": [
    {
     "data": {
      "text/plain": [
       "{'id': 13,\n",
       " 'code': 'PTC',\n",
       " 'name': 'Pitcairn Intermodal',\n",
       " 'city': 'Pittsburgh',\n",
       " 'state': 'PA',\n",
       " 'location': 464679,\n",
       " 'owner': 5}"
      ]
     },
     "execution_count": 41,
     "metadata": {},
     "output_type": "execute_result"
    }
   ],
   "source": [
    "res = requests.get(URL7+'13', auth=TokenAuth(token))\n",
    "pit = res.json()['results']\n",
    "pit"
   ]
  },
  {
   "cell_type": "code",
   "execution_count": 14,
   "id": "1c2856bf-d6a1-4ec2-9cb1-b75136eaa667",
   "metadata": {},
   "outputs": [
    {
     "data": {
      "text/plain": [
       "{'id': 14,\n",
       " 'code': 'MPH',\n",
       " 'name': 'Maple Heights Intermodal',\n",
       " 'city': 'Cleveland',\n",
       " 'state': 'OH',\n",
       " 'location': 450869,\n",
       " 'owner': 5}"
      ]
     },
     "execution_count": 14,
     "metadata": {},
     "output_type": "execute_result"
    }
   ],
   "source": [
    "res = requests.get(URL7+'14', auth=TokenAuth(token))\n",
    "mph = res.json()['results']\n",
    "mph"
   ]
  },
  {
   "cell_type": "code",
   "execution_count": 15,
   "id": "cb1001ea-aa5d-4113-b545-acd4bfd5dfbd",
   "metadata": {},
   "outputs": [
    {
     "data": {
      "text/plain": [
       "array(True)"
      ]
     },
     "execution_count": 15,
     "metadata": {},
     "output_type": "execute_result"
    }
   ],
   "source": [
    "np.isin(rfd['location'], cc_route['path'])"
   ]
  },
  {
   "cell_type": "code",
   "execution_count": 16,
   "id": "ba12c316-5389-475c-83ba-1f18e5e70dde",
   "metadata": {},
   "outputs": [],
   "source": [
    "path = np.array(cc_route['path'])"
   ]
  },
  {
   "cell_type": "code",
   "execution_count": 17,
   "id": "4a6b13d1-09a1-451c-a25d-aaa1ccc8d5f8",
   "metadata": {},
   "outputs": [
    {
     "data": {
      "text/plain": [
       "573"
      ]
     },
     "execution_count": 17,
     "metadata": {},
     "output_type": "execute_result"
    }
   ],
   "source": [
    "rfd_index = np.where(path==rfd['location'])[0][0]\n",
    "rfd_index"
   ]
  },
  {
   "cell_type": "code",
   "execution_count": 18,
   "id": "8f78c00f-0c52-4125-a70e-c4bad0bebff6",
   "metadata": {},
   "outputs": [
    {
     "data": {
      "text/plain": [
       "0"
      ]
     },
     "execution_count": 18,
     "metadata": {},
     "output_type": "execute_result"
    }
   ],
   "source": [
    "c47_index = np.where(np.array(path)==c47['location'])[0][0]\n",
    "c47_index"
   ]
  },
  {
   "cell_type": "code",
   "execution_count": 19,
   "id": "2dfd13f0-fac0-441b-abf4-5751f6a6d7f4",
   "metadata": {},
   "outputs": [
    {
     "data": {
      "text/plain": [
       "263"
      ]
     },
     "execution_count": 19,
     "metadata": {},
     "output_type": "execute_result"
    }
   ],
   "source": [
    "mph_index = np.where(np.array(path)==mph['location'])[0][0]\n",
    "mph_index"
   ]
  },
  {
   "cell_type": "code",
   "execution_count": 20,
   "id": "67ffba5b-05fa-4819-9fba-1f5831262fe5",
   "metadata": {},
   "outputs": [
    {
     "data": {
      "text/plain": [
       "739"
      ]
     },
     "execution_count": 20,
     "metadata": {},
     "output_type": "execute_result"
    }
   ],
   "source": [
    "len(path)"
   ]
  },
  {
   "cell_type": "code",
   "execution_count": 24,
   "id": "90e0bf85-b49e-4aa6-91fb-ddbcb2a28317",
   "metadata": {},
   "outputs": [],
   "source": [
    "c47_cxt_route = {\n",
    "    'origin': c47['id'],\n",
    "    'destination': cxt['id'],\n",
    "    'owner': 5,\n",
    "    'path': list(path)\n",
    "}"
   ]
  },
  {
   "cell_type": "code",
   "execution_count": 25,
   "id": "a00af9cf-e1fb-47c0-9f7f-98dbe9405b91",
   "metadata": {},
   "outputs": [
    {
     "data": {
      "text/plain": [
       "{'results': 5}"
      ]
     },
     "execution_count": 25,
     "metadata": {},
     "output_type": "execute_result"
    }
   ],
   "source": [
    "res = requests.post(URL5, data=c47_cxt_route, auth=TokenAuth(token))\n",
    "res.json()"
   ]
  },
  {
   "cell_type": "code",
   "execution_count": 33,
   "id": "fff80eb8-5d75-4dc5-a9ec-7f77ba6e3d4d",
   "metadata": {},
   "outputs": [],
   "source": [
    "cxt_c47_route = {\n",
    "    'origin': cxt['id'],\n",
    "    'destination': c47['id'],\n",
    "    'owner': 5,\n",
    "    'path': list(path[::-1])\n",
    "}"
   ]
  },
  {
   "cell_type": "code",
   "execution_count": 34,
   "id": "1edd3802-04d5-4325-b34b-372126957bad",
   "metadata": {},
   "outputs": [
    {
     "data": {
      "text/plain": [
       "{'results': 11}"
      ]
     },
     "execution_count": 34,
     "metadata": {},
     "output_type": "execute_result"
    }
   ],
   "source": [
    "res = requests.post(URL5, data=cxt_c47_route, auth=TokenAuth(token))\n",
    "res.json()"
   ]
  },
  {
   "cell_type": "code",
   "execution_count": 35,
   "id": "ee86be7f-de40-48d8-ba50-3b97bb45196c",
   "metadata": {},
   "outputs": [
    {
     "data": {
      "text/plain": [
       "450869"
      ]
     },
     "execution_count": 35,
     "metadata": {},
     "output_type": "execute_result"
    }
   ],
   "source": [
    "mph['location']"
   ]
  },
  {
   "cell_type": "code",
   "execution_count": 36,
   "id": "0aa2f028-2bd8-4ed8-9a22-c3b68cc4b886",
   "metadata": {},
   "outputs": [],
   "source": [
    "c47_mph_path = path[c47_index:mph_index+1] # need to add to the end to include it in the slice\n",
    "c47_mph_route = {\n",
    "    'origin': c47['id'],\n",
    "    'destination': mph['id'],\n",
    "    'owner': 5,\n",
    "    'path': list(c47_mph_path)\n",
    "}\n",
    "mph_c47_route = {\n",
    "    'origin': mph['id'],\n",
    "    'destination': c47['id'],\n",
    "    'owner': 5,\n",
    "    'path': list(c47_mph_path[::-1])\n",
    "}"
   ]
  },
  {
   "cell_type": "code",
   "execution_count": 37,
   "id": "d1e6da33-0f86-4bc4-9791-360e99cb4c62",
   "metadata": {},
   "outputs": [
    {
     "data": {
      "text/plain": [
       "{'results': 6}"
      ]
     },
     "execution_count": 37,
     "metadata": {},
     "output_type": "execute_result"
    }
   ],
   "source": [
    "res = requests.post(URL5, data=c47_mph_route, auth=TokenAuth(token))\n",
    "res.json()"
   ]
  },
  {
   "cell_type": "code",
   "execution_count": 38,
   "id": "2d9a0495-e593-4ade-a4d4-fc43d1686455",
   "metadata": {},
   "outputs": [
    {
     "data": {
      "text/plain": [
       "{'results': 12}"
      ]
     },
     "execution_count": 38,
     "metadata": {},
     "output_type": "execute_result"
    }
   ],
   "source": [
    "res = requests.post(URL5, data=mph_c47_route, auth=TokenAuth(token))\n",
    "res.json()"
   ]
  },
  {
   "cell_type": "code",
   "execution_count": 42,
   "id": "ca9f5d0f-df20-4091-aec7-ba2191b57607",
   "metadata": {},
   "outputs": [
    {
     "data": {
      "text/plain": [
       "415"
      ]
     },
     "execution_count": 42,
     "metadata": {},
     "output_type": "execute_result"
    }
   ],
   "source": [
    "pit_index = np.where(path==pit['location'])[0][0]\n",
    "pit_index"
   ]
  },
  {
   "cell_type": "code",
   "execution_count": 43,
   "id": "559806bb-c73f-454a-822a-522622fd6ac4",
   "metadata": {},
   "outputs": [],
   "source": [
    "mph_pit_path = path[mph_index:pit_index+1]\n",
    "mph_pit_route = {\n",
    "    'origin': mph['id'],\n",
    "    'destination': pit['id'],\n",
    "    'owner': 5,\n",
    "    'path': list(mph_pit_path)\n",
    "}\n",
    "pit_mph_route = {\n",
    "    'origin': pit['id'],\n",
    "    'destination': mph['id'],\n",
    "    'owner': 5,\n",
    "    'path': list(mph_pit_path[::-1])\n",
    "}"
   ]
  },
  {
   "cell_type": "code",
   "execution_count": 44,
   "id": "e1720ff3-a8ff-47c3-afc7-a568a4069800",
   "metadata": {},
   "outputs": [
    {
     "data": {
      "text/plain": [
       "{'results': 7}"
      ]
     },
     "execution_count": 44,
     "metadata": {},
     "output_type": "execute_result"
    }
   ],
   "source": [
    "res = requests.post(URL5, data=mph_pit_route, auth=TokenAuth(token))\n",
    "res.json()"
   ]
  },
  {
   "cell_type": "code",
   "execution_count": 45,
   "id": "fb222a17-6e77-4e3f-904e-d8925cc1b90e",
   "metadata": {},
   "outputs": [
    {
     "data": {
      "text/plain": [
       "{'results': 13}"
      ]
     },
     "execution_count": 45,
     "metadata": {},
     "output_type": "execute_result"
    }
   ],
   "source": [
    "res = requests.post(URL5, data=pit_mph_route, auth=TokenAuth(token))\n",
    "res.json()"
   ]
  },
  {
   "cell_type": "code",
   "execution_count": 46,
   "id": "cdd37642-58bf-4968-8b87-4013a40ea3cf",
   "metadata": {},
   "outputs": [
    {
     "data": {
      "text/plain": [
       "573"
      ]
     },
     "execution_count": 46,
     "metadata": {},
     "output_type": "execute_result"
    }
   ],
   "source": [
    "rfd_index = np.where(path==rfd['location'])[0][0]\n",
    "rfd_index"
   ]
  },
  {
   "cell_type": "code",
   "execution_count": 49,
   "id": "78fea37f-c7a8-4423-b29b-6dab64893fc0",
   "metadata": {},
   "outputs": [],
   "source": [
    "pit_rfd_path = path[pit_index:rfd_index+1]\n",
    "pit_rfd_route = {\n",
    "    'origin': pit['id'],\n",
    "    'destination': rfd['id'],\n",
    "    'owner': 5,\n",
    "    'path': list(pit_rfd_path)\n",
    "}"
   ]
  },
  {
   "cell_type": "code",
   "execution_count": 48,
   "id": "30b6070b-dc36-46c4-b3f3-334b772782d9",
   "metadata": {},
   "outputs": [],
   "source": [
    "rfd_pit_route = {\n",
    "    'origin': rfd['id'],\n",
    "    'destination': pit['id'],\n",
    "    'owner': 5,\n",
    "    'path': list(pit_rfd_path[::-1])\n",
    "}"
   ]
  },
  {
   "cell_type": "code",
   "execution_count": 50,
   "id": "d808912e-d996-4d08-8ab9-38e0166608d7",
   "metadata": {},
   "outputs": [
    {
     "data": {
      "text/plain": [
       "{'results': 8}"
      ]
     },
     "execution_count": 50,
     "metadata": {},
     "output_type": "execute_result"
    }
   ],
   "source": [
    "res = requests.post(URL5, data=pit_rfd_route, auth=TokenAuth(token))\n",
    "res.json()"
   ]
  },
  {
   "cell_type": "code",
   "execution_count": 51,
   "id": "78076cce-780e-4311-826e-e89005f33c4c",
   "metadata": {},
   "outputs": [
    {
     "data": {
      "text/plain": [
       "{'results': 14}"
      ]
     },
     "execution_count": 51,
     "metadata": {},
     "output_type": "execute_result"
    }
   ],
   "source": [
    "res = requests.post(URL5, data=rfd_pit_route, auth=TokenAuth(token))\n",
    "res.json()"
   ]
  },
  {
   "cell_type": "code",
   "execution_count": 52,
   "id": "17a6873b-9de7-46ed-a268-ade6f14b6db3",
   "metadata": {},
   "outputs": [
    {
     "data": {
      "text/plain": [
       "650"
      ]
     },
     "execution_count": 52,
     "metadata": {},
     "output_type": "execute_result"
    }
   ],
   "source": [
    "abm_index = np.where(path==abm['location'])[0][0]\n",
    "abm_index"
   ]
  },
  {
   "cell_type": "code",
   "execution_count": 54,
   "id": "f8eb24ee-4e40-4e66-a9e4-e4133ad9b858",
   "metadata": {},
   "outputs": [],
   "source": [
    "rfd_abm_path = path[rfd_index:abm_index+1]\n",
    "rfd_abm_route = {\n",
    "    'origin': rfd['id'],\n",
    "    'destination': abm['id'],\n",
    "    'owner': 5,\n",
    "    'path': list(rfd_abm_path)\n",
    "}\n",
    "abm_rfd_route = {\n",
    "    'origin': abm['id'],\n",
    "    'destination': rfd['id'],\n",
    "    'owner': 5,\n",
    "    'path': list(rfd_abm_path[::-1])\n",
    "}"
   ]
  },
  {
   "cell_type": "code",
   "execution_count": 55,
   "id": "256cf12a-e4f5-418e-bf3c-d718f4e555a8",
   "metadata": {},
   "outputs": [
    {
     "data": {
      "text/plain": [
       "{'results': 9}"
      ]
     },
     "execution_count": 55,
     "metadata": {},
     "output_type": "execute_result"
    }
   ],
   "source": [
    "res = requests.post(URL5, data=rfd_abm_route, auth=TokenAuth(token))\n",
    "res.json()"
   ]
  },
  {
   "cell_type": "code",
   "execution_count": 56,
   "id": "d1f09e60-bd96-4637-b187-9ea9bde6e4a5",
   "metadata": {},
   "outputs": [
    {
     "data": {
      "text/plain": [
       "{'results': 15}"
      ]
     },
     "execution_count": 56,
     "metadata": {},
     "output_type": "execute_result"
    }
   ],
   "source": [
    "res = requests.post(URL5, data=abm_rfd_route, auth=TokenAuth(token))\n",
    "res.json()"
   ]
  },
  {
   "cell_type": "code",
   "execution_count": 57,
   "id": "71d11668-11cf-4835-b94d-5a9395dcf53a",
   "metadata": {},
   "outputs": [
    {
     "data": {
      "text/plain": [
       "738"
      ]
     },
     "execution_count": 57,
     "metadata": {},
     "output_type": "execute_result"
    }
   ],
   "source": [
    "cxt_index = np.where(path==cxt['location'])[0][0]\n",
    "cxt_index"
   ]
  },
  {
   "cell_type": "code",
   "execution_count": 58,
   "id": "e83bc148-53c8-4d26-9bfd-e41e5a59252a",
   "metadata": {},
   "outputs": [],
   "source": [
    "abm_cxt_path = path[abm_index:cxt_index+1]\n",
    "abm_cxt_route = {\n",
    "    'origin': abm['id'],\n",
    "    'destination': cxt['id'],\n",
    "    'owner': 5,\n",
    "    'path': list(abm_cxt_path)\n",
    "}\n",
    "cxt_abm_route = {\n",
    "    'origin': cxt['id'],\n",
    "    'destination': abm['id'],\n",
    "    'owner': 5,\n",
    "    'path': list(abm_cxt_path[::-1])\n",
    "}"
   ]
  },
  {
   "cell_type": "code",
   "execution_count": 59,
   "id": "8f04ff89-6ec2-49f8-b80d-5c3d685618ae",
   "metadata": {},
   "outputs": [
    {
     "data": {
      "text/plain": [
       "{'results': 10}"
      ]
     },
     "execution_count": 59,
     "metadata": {},
     "output_type": "execute_result"
    }
   ],
   "source": [
    "res = requests.post(URL5, data=abm_cxt_route, auth=TokenAuth(token))\n",
    "res.json()"
   ]
  },
  {
   "cell_type": "code",
   "execution_count": 60,
   "id": "b399c917-1f52-48a1-8770-19b3a92e78ef",
   "metadata": {},
   "outputs": [
    {
     "data": {
      "text/plain": [
       "{'results': 16}"
      ]
     },
     "execution_count": 60,
     "metadata": {},
     "output_type": "execute_result"
    }
   ],
   "source": [
    "res = requests.post(URL5, data=cxt_abm_route, auth=TokenAuth(token))\n",
    "res.json()"
   ]
  },
  {
   "cell_type": "code",
   "execution_count": null,
   "id": "e34292f9-aaea-45e3-bd15-7de4e3bdf7e4",
   "metadata": {},
   "outputs": [],
   "source": []
  }
 ],
 "metadata": {
  "kernelspec": {
   "display_name": "Python 3 (ipykernel)",
   "language": "python",
   "name": "python3"
  },
  "language_info": {
   "codemirror_mode": {
    "name": "ipython",
    "version": 3
   },
   "file_extension": ".py",
   "mimetype": "text/x-python",
   "name": "python",
   "nbconvert_exporter": "python",
   "pygments_lexer": "ipython3",
   "version": "3.11.6"
  }
 },
 "nbformat": 4,
 "nbformat_minor": 5
}
