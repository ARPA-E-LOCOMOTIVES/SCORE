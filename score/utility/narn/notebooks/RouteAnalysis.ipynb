{
 "cells": [
  {
   "cell_type": "markdown",
   "id": "13297578-83db-42db-b5bd-d7b1325bff7f",
   "metadata": {},
   "source": [
    "# Route Analysis\n",
    "This notebook loads the complete NARN database and is used to analyze the data that is in it."
   ]
  },
  {
   "cell_type": "code",
   "execution_count": 3,
   "id": "9559d121-454e-4ca4-ba46-21888d43b94a",
   "metadata": {},
   "outputs": [],
   "source": [
    "import geopandas as gpd\n",
    "import networkx as nx\n",
    "# import osmnx as ox\n",
    "from shapely import geometry, ops\n",
    "import numpy as np\n",
    "import matplotlib.pyplot as plt\n",
    "import requests"
   ]
  },
  {
   "cell_type": "markdown",
   "id": "25f23eb0-5c44-463a-908d-a7785443a9b9",
   "metadata": {},
   "source": [
    "First step is to load the data. The geojson file is not part of the git repo since it is too large. It can be downloaded and palced in thsi directory as indicated in the README file. This will take a few minutes to load and may throw an error the first time. This error can be ignored (I think)."
   ]
  },
  {
   "cell_type": "code",
   "execution_count": 4,
   "id": "0731bcb8-917c-43e5-a43b-16efdccdc347",
   "metadata": {},
   "outputs": [
    {
     "name": "stderr",
     "output_type": "stream",
     "text": [
      "ERROR 1: PROJ: proj_create_from_database: Open of /opt/conda/share/proj failed\n"
     ]
    }
   ],
   "source": [
    "data = gpd.read_file('North_American_Rail_Network_Lines.geojson')"
   ]
  },
  {
   "cell_type": "markdown",
   "id": "c8d502e4-b8ea-4e66-b739-688a2547bac3",
   "metadata": {},
   "source": [
    "## Data exploration\n",
    "Now that we have the data, let's get some information abtou what is in the \"database\". The first thing we can look at is the coordinate system that is used."
   ]
  },
  {
   "cell_type": "code",
   "execution_count": 5,
   "id": "ab45b6a3-6afa-4e9e-b0b7-0abda782e5f5",
   "metadata": {},
   "outputs": [
    {
     "data": {
      "text/plain": [
       "<Geographic 2D CRS: EPSG:4326>\n",
       "Name: WGS 84\n",
       "Axis Info [ellipsoidal]:\n",
       "- Lat[north]: Geodetic latitude (degree)\n",
       "- Lon[east]: Geodetic longitude (degree)\n",
       "Area of Use:\n",
       "- name: World.\n",
       "- bounds: (-180.0, -90.0, 180.0, 90.0)\n",
       "Datum: World Geodetic System 1984 ensemble\n",
       "- Ellipsoid: WGS 84\n",
       "- Prime Meridian: Greenwich"
      ]
     },
     "execution_count": 5,
     "metadata": {},
     "output_type": "execute_result"
    }
   ],
   "source": [
    "data.crs"
   ]
  },
  {
   "cell_type": "markdown",
   "id": "f49ac230-cfbe-44d9-a338-0354eee8f8cc",
   "metadata": {},
   "source": [
    "EPSG:4326 is a lat/long coordinate system. We will want to convert this to meters. One of the msot common coordinate systems is EPSE:3857. This is used by Google Maps and Open Stree Maps."
   ]
  },
  {
   "cell_type": "code",
   "execution_count": 6,
   "id": "fc244fe4-1e14-4e8b-a345-61c101be9ae4",
   "metadata": {},
   "outputs": [],
   "source": [
    "data = data.to_crs(3857)"
   ]
  },
  {
   "cell_type": "code",
   "execution_count": 7,
   "id": "790642fd-deba-4f51-8d68-2b83acfd07c6",
   "metadata": {},
   "outputs": [
    {
     "data": {
      "text/plain": [
       "<Projected CRS: EPSG:3857>\n",
       "Name: WGS 84 / Pseudo-Mercator\n",
       "Axis Info [cartesian]:\n",
       "- X[east]: Easting (metre)\n",
       "- Y[north]: Northing (metre)\n",
       "Area of Use:\n",
       "- name: World between 85.06°S and 85.06°N.\n",
       "- bounds: (-180.0, -85.06, 180.0, 85.06)\n",
       "Coordinate Operation:\n",
       "- name: Popular Visualisation Pseudo-Mercator\n",
       "- method: Popular Visualisation Pseudo Mercator\n",
       "Datum: World Geodetic System 1984 ensemble\n",
       "- Ellipsoid: WGS 84\n",
       "- Prime Meridian: Greenwich"
      ]
     },
     "execution_count": 7,
     "metadata": {},
     "output_type": "execute_result"
    }
   ],
   "source": [
    "data.crs"
   ]
  },
  {
   "cell_type": "markdown",
   "id": "b7dc1930-5923-4a20-adb1-9f041cde9caf",
   "metadata": {},
   "source": [
    "We can also see what fields are available."
   ]
  },
  {
   "cell_type": "code",
   "execution_count": 8,
   "id": "089f15cb-2699-4daf-9690-e995bd16dd1a",
   "metadata": {},
   "outputs": [
    {
     "name": "stdout",
     "output_type": "stream",
     "text": [
      "<class 'geopandas.geodataframe.GeoDataFrame'>\n",
      "RangeIndex: 302988 entries, 0 to 302987\n",
      "Data columns (total 35 columns):\n",
      " #   Column         Non-Null Count   Dtype   \n",
      "---  ------         --------------   -----   \n",
      " 0   OBJECTID       302988 non-null  int64   \n",
      " 1   FRAARCID       302988 non-null  int64   \n",
      " 2   FRFRANODE      302988 non-null  int64   \n",
      " 3   TOFRANODE      302988 non-null  int64   \n",
      " 4   STFIPS         235945 non-null  object  \n",
      " 5   CNTYFIPS       235945 non-null  object  \n",
      " 6   STCNTYFIPS     235945 non-null  object  \n",
      " 7   STATEAB        302988 non-null  object  \n",
      " 8   COUNTRY        302988 non-null  object  \n",
      " 9   FRADISTRCT     302988 non-null  int64   \n",
      " 10  RROWNER1       299857 non-null  object  \n",
      " 11  RROWNER2       3006 non-null    object  \n",
      " 12  RROWNER3       27 non-null      object  \n",
      " 13  TRKRGHTS1      51734 non-null   object  \n",
      " 14  TRKRGHTS2      13823 non-null   object  \n",
      " 15  TRKRGHTS3      3252 non-null    object  \n",
      " 16  TRKRGHTS4      919 non-null     object  \n",
      " 17  TRKRGHTS5      264 non-null     object  \n",
      " 18  TRKRGHTS6      102 non-null     object  \n",
      " 19  TRKRGHTS7      38 non-null      object  \n",
      " 20  TRKRGHTS8      11 non-null      object  \n",
      " 21  TRKRGHTS9      2 non-null       object  \n",
      " 22  DIVISION       89015 non-null   object  \n",
      " 23  SUBDIV         184745 non-null  object  \n",
      " 24  BRANCH         88978 non-null   object  \n",
      " 25  YARDNAME       44856 non-null   object  \n",
      " 26  PASSNGR        22836 non-null   object  \n",
      " 27  STRACNET       27888 non-null   object  \n",
      " 28  TRACKS         302936 non-null  float64 \n",
      " 29  NET            302988 non-null  object  \n",
      " 30  MILES          302988 non-null  float64 \n",
      " 31  KM             302988 non-null  float64 \n",
      " 32  TIMEZONE       235945 non-null  object  \n",
      " 33  ShapeSTLength  302988 non-null  float64 \n",
      " 34  geometry       302988 non-null  geometry\n",
      "dtypes: float64(4), geometry(1), int64(5), object(25)\n",
      "memory usage: 80.9+ MB\n"
     ]
    }
   ],
   "source": [
    "data.info()"
   ]
  },
  {
   "cell_type": "markdown",
   "id": "a91846b0-23fb-4087-ad26-9deb830f479e",
   "metadata": {},
   "source": [
    "How many records are in the database?"
   ]
  },
  {
   "cell_type": "code",
   "execution_count": 9,
   "id": "36997341-138d-4717-b72f-112fd509335d",
   "metadata": {},
   "outputs": [
    {
     "data": {
      "text/plain": [
       "302988"
      ]
     },
     "execution_count": 9,
     "metadata": {},
     "output_type": "execute_result"
    }
   ],
   "source": [
    "len(data)"
   ]
  },
  {
   "cell_type": "markdown",
   "id": "9d1512ba-2a26-4ae1-baee-225b23b21886",
   "metadata": {},
   "source": [
    "We can reduce this significantly by only looking at mainline tracks."
   ]
  },
  {
   "cell_type": "code",
   "execution_count": 10,
   "id": "6e74d106-c997-4427-b81a-9fc719f8fc75",
   "metadata": {},
   "outputs": [
    {
     "data": {
      "text/plain": [
       "97100"
      ]
     },
     "execution_count": 10,
     "metadata": {},
     "output_type": "execute_result"
    }
   ],
   "source": [
    "m_data = data[data['NET']=='M']\n",
    "len(m_data)"
   ]
  },
  {
   "cell_type": "markdown",
   "id": "43519715-068e-4be6-9965-21a28b9a82ed",
   "metadata": {},
   "source": [
    "Out of curiosity, we see how many of the segments are sidings."
   ]
  },
  {
   "cell_type": "code",
   "execution_count": 11,
   "id": "bdfe01da-c197-4df6-b7ab-e2eeda54cedd",
   "metadata": {},
   "outputs": [
    {
     "data": {
      "text/plain": [
       "10236"
      ]
     },
     "execution_count": 11,
     "metadata": {},
     "output_type": "execute_result"
    }
   ],
   "source": [
    "s_data = data[data['NET']=='S']\n",
    "len(s_data)"
   ]
  },
  {
   "cell_type": "markdown",
   "id": "c54e993e-dbf6-4d79-a807-26b36461dbac",
   "metadata": {},
   "source": [
    "## Railroads\n",
    "In this section we will explore how much track each railroad has access to. Let's first create a dictionary with the 7 railroads."
   ]
  },
  {
   "cell_type": "code",
   "execution_count": 12,
   "id": "cab875b5-b397-47b0-854d-acd322d6f606",
   "metadata": {},
   "outputs": [],
   "source": [
    "railroads = [\n",
    "    {'code': 'BNSF', 'name': 'Burlington Northern and Santa Fe'},\n",
    "    {'code': 'CN', 'name': 'Canadian National Railway'},\n",
    "    {'code': 'CP', 'name': 'Canadian Pacific Railway'},\n",
    "    {'code': 'CSXT', 'name': 'CSX Transportation'},\n",
    "    {'code': 'NS', 'name': 'Norfolk Southern Railway'},\n",
    "    {'code': 'KCS', 'name': 'Kansas City Southern Railway'},\n",
    "    {'code': 'UP', 'name': 'Union Pacific'}\n",
    "]"
   ]
  },
  {
   "cell_type": "markdown",
   "id": "f1216008-cdd7-4e8c-90ce-023a08f4061c",
   "metadata": {},
   "source": [
    "There are a lot of different railroads included in the database, but we only care about the 7 above."
   ]
  },
  {
   "cell_type": "code",
   "execution_count": 13,
   "id": "b0eb62c2-506e-4af1-86bc-3ad0c44f778e",
   "metadata": {},
   "outputs": [
    {
     "data": {
      "text/plain": [
       "718"
      ]
     },
     "execution_count": 13,
     "metadata": {},
     "output_type": "execute_result"
    }
   ],
   "source": [
    "len(m_data['RROWNER1'].drop_duplicates())"
   ]
  },
  {
   "cell_type": "markdown",
   "id": "868ec993-10f2-47f1-90af-e5627abbe5df",
   "metadata": {},
   "source": [
    "How many yards are available across North America?"
   ]
  },
  {
   "cell_type": "code",
   "execution_count": 25,
   "id": "730bc01e-3523-4e22-9fa0-753e055a2808",
   "metadata": {},
   "outputs": [
    {
     "data": {
      "text/plain": [
       "1232"
      ]
     },
     "execution_count": 25,
     "metadata": {},
     "output_type": "execute_result"
    }
   ],
   "source": [
    "yards = m_data['YARDNAME'].drop_duplicates().sort_values()\n",
    "len(yards)"
   ]
  },
  {
   "cell_type": "markdown",
   "id": "8bc213a8-be2b-4add-80ec-54b9555efcd8",
   "metadata": {},
   "source": [
    "### Burlington Northern and Sante Fe\n",
    "Take a look at BNSF"
   ]
  },
  {
   "cell_type": "code",
   "execution_count": 21,
   "id": "6bec7b1f-553d-4389-9e12-f3e4bf99b77b",
   "metadata": {},
   "outputs": [
    {
     "data": {
      "text/plain": [
       "'BNSF'"
      ]
     },
     "execution_count": 21,
     "metadata": {},
     "output_type": "execute_result"
    }
   ],
   "source": [
    "rr = railroads[0]['code']\n",
    "rr"
   ]
  },
  {
   "cell_type": "code",
   "execution_count": 22,
   "id": "049d860c-160f-4d7c-9bc3-7817a931bdd7",
   "metadata": {},
   "outputs": [],
   "source": [
    "bnsf_data = m_data[m_data[['RROWNER1', 'RROWNER2', 'RROWNER3', 'TRKRGHTS1', 'TRKRGHTS2', 'TRKRGHTS3', 'TRKRGHTS4', 'TRKRGHTS5', 'TRKRGHTS6', 'TRKRGHTS7', 'TRKRGHTS8', 'TRKRGHTS9']].isin([rr]).any(axis=1)]"
   ]
  },
  {
   "cell_type": "markdown",
   "id": "80bdfc51-35a5-43c4-9ad0-711d9553c566",
   "metadata": {},
   "source": [
    "The number of track segments BNSF has rights to in the database."
   ]
  },
  {
   "cell_type": "code",
   "execution_count": 23,
   "id": "fc37b767-5437-4bbf-ac93-5340271062e2",
   "metadata": {},
   "outputs": [
    {
     "data": {
      "text/plain": [
       "18234"
      ]
     },
     "execution_count": 23,
     "metadata": {},
     "output_type": "execute_result"
    }
   ],
   "source": [
    "len(bnsf_data)"
   ]
  },
  {
   "cell_type": "markdown",
   "id": "9bc261d4-e84f-45d9-a265-96ea28cfaf6d",
   "metadata": {},
   "source": [
    "The number of yards BNSF owns."
   ]
  },
  {
   "cell_type": "code",
   "execution_count": 28,
   "id": "4778a33a-2164-474d-9a9d-18d4aff6b18a",
   "metadata": {},
   "outputs": [
    {
     "data": {
      "text/plain": [
       "171"
      ]
     },
     "execution_count": 28,
     "metadata": {},
     "output_type": "execute_result"
    }
   ],
   "source": [
    "bnsf = m_data[m_data['RROWNER1']==rr]\n",
    "bnsf_yards = bnsf['YARDNAME'].drop_duplicates().sort_values()\n",
    "len(bnsf_yards)"
   ]
  },
  {
   "cell_type": "markdown",
   "id": "8e784d39-ddf7-49b9-a768-c144e568b21b",
   "metadata": {
    "jp-MarkdownHeadingCollapsed": true
   },
   "source": [
    "### Norfolk Southern\n",
    "Take a look at Norfolk Southern tracks."
   ]
  },
  {
   "cell_type": "code",
   "execution_count": 29,
   "id": "40467a3f-a4da-4c06-ba48-e645a92e34be",
   "metadata": {},
   "outputs": [
    {
     "data": {
      "text/plain": [
       "'NS'"
      ]
     },
     "execution_count": 29,
     "metadata": {},
     "output_type": "execute_result"
    }
   ],
   "source": [
    "rr = railroads[4]['code']\n",
    "rr"
   ]
  },
  {
   "cell_type": "code",
   "execution_count": 30,
   "id": "6642337b-5c24-438f-a7b5-4b0fce2d9884",
   "metadata": {},
   "outputs": [],
   "source": [
    "ns_data = m_data[m_data[['RROWNER1', 'RROWNER2', 'RROWNER3', 'TRKRGHTS1', 'TRKRGHTS2', 'TRKRGHTS3', 'TRKRGHTS4', 'TRKRGHTS5', 'TRKRGHTS6', 'TRKRGHTS7', 'TRKRGHTS8', 'TRKRGHTS9']].isin([rr]).any(axis=1)]"
   ]
  },
  {
   "cell_type": "markdown",
   "id": "baad9464-a6a9-4619-8442-a370bddf4962",
   "metadata": {},
   "source": [
    "The number of track segments NS has rights to in the database."
   ]
  },
  {
   "cell_type": "code",
   "execution_count": 31,
   "id": "28d7994d-42fc-4667-8c4e-89af5581ac7c",
   "metadata": {},
   "outputs": [
    {
     "data": {
      "text/plain": [
       "14114"
      ]
     },
     "execution_count": 31,
     "metadata": {},
     "output_type": "execute_result"
    }
   ],
   "source": [
    "len(ns_data)"
   ]
  },
  {
   "cell_type": "markdown",
   "id": "cbb0f831-ebd1-45d3-a36e-3335825d522d",
   "metadata": {},
   "source": [
    "The number of yards NS owns."
   ]
  },
  {
   "cell_type": "code",
   "execution_count": 33,
   "id": "d1345956-ee14-4938-a0ef-45b2ac34b665",
   "metadata": {},
   "outputs": [
    {
     "data": {
      "text/plain": [
       "187"
      ]
     },
     "execution_count": 33,
     "metadata": {},
     "output_type": "execute_result"
    }
   ],
   "source": [
    "ns = m_data[m_data['RROWNER1']==rr]\n",
    "ns_yards = ns['YARDNAME'].drop_duplicates().sort_values()\n",
    "len(ns_yards)"
   ]
  },
  {
   "cell_type": "markdown",
   "id": "a8430916-de26-407a-8cb5-104061b7682f",
   "metadata": {},
   "source": [
    "Lets look at one yard, Enola near Harrisburg."
   ]
  },
  {
   "cell_type": "code",
   "execution_count": 36,
   "id": "ee71568d-0b38-45c8-9662-2a0ead78acaa",
   "metadata": {},
   "outputs": [],
   "source": [
    "enola = ns_data[ns_data['YARDNAME']=='ENOLA']"
   ]
  },
  {
   "cell_type": "markdown",
   "id": "00f72646-3e15-4ff1-88b5-2c2ca78fd43d",
   "metadata": {},
   "source": [
    "Since we are working in GeoPandas, we can simply plot out the track geometry."
   ]
  },
  {
   "cell_type": "code",
   "execution_count": 37,
   "id": "74d833ab-bd8c-4035-9d23-766653daea7a",
   "metadata": {},
   "outputs": [
    {
     "data": {
      "text/plain": [
       "<Axes: >"
      ]
     },
     "execution_count": 37,
     "metadata": {},
     "output_type": "execute_result"
    },
    {
     "data": {
      "image/png": "[encoded data removed]",
      "text/plain": [
       "<Figure size 640x480 with 1 Axes>"
      ]
     },
     "metadata": {},
     "output_type": "display_data"
    }
   ],
   "source": [
    "enola.plot()"
   ]
  },
  {
   "cell_type": "code",
   "execution_count": 38,
   "id": "6bd68507-641b-45f7-8ebc-f202db674107",
   "metadata": {},
   "outputs": [
    {
     "data": {
      "text/plain": [
       "'192589                     55TH ST\\n54690                    A O SMITH\\n152941                      ALBANY\\n96143                      ALTOONA\\n91055                     ANDOVOER\\n178740                     ANDREWS\\n191722                 ASHLAND AVE\\n101315            ASHTABULA HARBOR\\n176263                AUGUSTA (NS)\\n103859                     AUVILLE\\n82210                        BAKER\\n81853                 BAKER STREET\\n98419                       BANNON\\n97916                     BELLEVUE\\n79857                BEVIER STREET\\n82410                   BINGHAMTON\\n82162                        BISON\\n121233                       BLAIR\\n102483                   BLUEFIELD\\n90925                      BRISTOL\\n104257                    BROADWAY\\n59575                     BROOKLYN\\n153834                     BROSNAN\\n154172              BRUNSWICK (NS)\\n98400                      BUCKEYE\\n80039                  BUFFALO S K\\n193612                BURNS HARBOR\\n187039           BURNSIDE TERMINAL\\n157147                     CALHOUN\\n189789                     CALUMET\\n100724                      CANTON\\n91358                     CAROLINE\\n177524                   CHARLOTTE\\n101141          CLEVELAND TERMINAL\\n63485                      COAPMAN\\n103537                        COIL\\n191447                    COLEHOUR\\n152982                    COLUMBUS\\n96528                    CONEMAUGH\\n99392                     CONNEAUT\\n91191                       CONWAY\\n157035                     CORINTH\\n180781                      COSTER\\n90900                        CREWE\\n98259                       DAYTON\\n157594                     DEBUTTS\\n199892                     DECATUR\\n188466                DECATUR (NS)\\n92273                      DETROIT\\n176084                     DILLARD\\n90889                       DISMAL\\n175463                      DRAGON\\n193092                        EAST\\n99420                 EAST 55TH ST\\n82250              EAST BINGHAMTON\\n175958                 EAST DURHAM\\n191191                  EAST WAYNE\\n91910                    EDGE MOOR\\n193641                     ELKHART\\n100207                      ELMORE\\n99418                       ELYRIA\\n180665                   EMORY GAP\\n89424                        ENOLA\\n95433                         ETNA\\n105680           FAIRLANE AUTOLOAD\\n46936                      FEDERAL\\n94642                      FERRONA\\n99432                      FINDLEY\\n91759                     FLAT TOP\\n98077                         FORD\\n98307                     FORD JCT\\n153166                 FOREST PARK\\n156818                     FORREST\\n156159                FORRESTVILLE\\n193181                   FRANKFORT\\n180990                      FRISCO\\n89319                     FRONT ST\\n82032                   GANG MILLS\\n80817                       GENEVA\\n102965                     GILBERT\\n177987                    GLENWOOD\\n191084                        GOOD\\n193686                     GOODMAN\\n98085                        GOULD\\n180197                  GREENVILLE\\n92206                     HASELTON\\n174069                 HATTIESBURG\\n179787                       HAYNE\\n197066        HEGEWISCH MIXING CTR\\n190321                      HOBBIE\\n97129                    HOMESTEAD\\n193995                 HUNTINGBURG\\n99826                        HURON\\n153063                       INMAN\\n99254                      IRONTON\\n94499                ISLAND AVENUE\\n191116               KANKAKEE (NS)\\n95379                       KENNEY\\n103435                      KENOVA\\n103952                    KEYSTONE\\n90711                       KINNEY\\n100075                      KLINES\\n103095              LAMBERTS POINT\\n115530                   LEWISTOWN\\n176881              LEXINGTON (NS)\\n100026                   LINNVILLE\\n90049                   LOCK HAVEN\\n176633                      LUDLOW\\n48961                       LUTHER\\n66275                 MADISON (UP)\\n103409                  MAIDSVILLE\\n99498     MAPLE HEIGHTS INTERMODAL\\n98951                  MARION (NS)\\n159669              MERIDIAN (KCS)\\n151891               MERIDIAN (NS)\\n196081                  MILAN (NS)\\n175610                      MILLEN\\n89392                    MILLSTONE\\n99355                   MINGO (NS)\\n300447                     MOBERLY\\n174183                 MOBILE (NS)\\n92261                   MONTPELIER\\n91558                     MONTVIEW\\n101132                     MORAINE\\n101133                  MORAINE TV\\n97540                        MOTOR\\n109928                   NAUGATUCK\\n174048                   NICHOLSON\\n150826                      NORRIS\\n178638               NORTH WINSTON\\n91129                       NORTON\\n99760                       OAK ST\\n180663                     OAKDALE\\n198789            OAKLAND CITY JCT\\n188150                     OAKWOOD\\n122195                      OLIVER\\n84359                      ONEONTA\\n49585                        OUTER\\n154136                     PEAGRAM\\n193093                        PERU\\n121307                    PITCAIRN\\n70111                         POAG\\n91242                          POE\\n175818                      POMONA\\n175734           POMONA INTERMODAL\\n89796                     PORTLOCK\\n101956                  PORTSMOUTH\\n95278               POTTSTOWN YARD\\n101705                      RENICK\\n90400                     RICHMOND\\n97926      RICKENBACKER INTERMODAL\\n89296                      ROANOKE\\n100728                    ROCKPORT\\n97557                     SANDUSKY\\n152790                       SELMA\\n179774                  SEVEN MILE\\n180467                      SEVIER\\n106188                 SHARONVILLE\\n152030                   SHEFFIELD\\n91074                   SHENANDOAH\\n95394                   SHIRE OAKS\\n95334                SHIREMANSTOWN\\n170602                     SIMPSON\\n94656                   SOUTH FORK\\n89334                   SOUTH LIMA\\n91090                SOUTH ROANOKE\\n177628                     SPENCER\\n191479            SPRINGFIELD (NS)\\n176929                     STEARNS\\n98082                    SUMNER ST\\n190917                      TILTON\\n193869                      TIPTON\\n97143         TOLEDO MEGA TERMINAL\\n93428                        VARDO\\n196052                      WARNER\\n99206                 WATKINS ROAD\\n91097                       WELLER\\n154439                        WEST\\n90067             WEST BROWNSVILLE\\n103852                      WILCOE\\n89391                   WILLIAMSON\\n99683                       WILSON\\n178931          WINSTON-SALEM EAST\\n297275    WINSTON-SALEM EAST TRANS\\n108657                   YORK (NS)\\n89127                         YUMA\\n45762                          NaN'"
      ]
     },
     "execution_count": 38,
     "metadata": {},
     "output_type": "execute_result"
    }
   ],
   "source": [
    "ns_yards.to_string()"
   ]
  },
  {
   "cell_type": "markdown",
   "id": "776e3b31-3d8b-44e3-860e-9118c8516a36",
   "metadata": {
    "jp-MarkdownHeadingCollapsed": true
   },
   "source": [
    "## All yards\n",
    "Lets take a look at all of the yards that are in the database. On inspection of the data above, there is the Enola yard for Harrisbrug that is owned by Norfolk Southern. There is also and Intermodal yard in Harrisburg that is on the east side of the river. It is not listed as a \"NS\" route. "
   ]
  },
  {
   "cell_type": "code",
   "execution_count": 42,
   "id": "c967e362-354c-4ff8-b244-b219d739ccb2",
   "metadata": {},
   "outputs": [],
   "source": [
    "m_yards = m_data['YARDNAME'].drop_duplicates().sort_values()"
   ]
  },
  {
   "cell_type": "code",
   "execution_count": 43,
   "id": "ef9443d8-d48e-437a-9c10-8988bea342e5",
   "metadata": {},
   "outputs": [
    {
     "data": {
      "text/plain": [
       "1232"
      ]
     },
     "execution_count": 43,
     "metadata": {},
     "output_type": "execute_result"
    }
   ],
   "source": [
    "len(m_yards)"
   ]
  },
  {
   "cell_type": "code",
   "execution_count": 52,
   "id": "d67e2e25-cbb6-4da1-b593-2ad234e3c7f0",
   "metadata": {},
   "outputs": [],
   "source": [
    "# m_yards.to_string()"
   ]
  },
  {
   "cell_type": "markdown",
   "id": "927d6604-0107-47ff-ba8b-aed91c88795a",
   "metadata": {},
   "source": [
    "There is no Harrisburg Intermodal on any mainline tracks. We can try once more on the whole dataset and see if it comes up there."
   ]
  },
  {
   "cell_type": "code",
   "execution_count": 45,
   "id": "9aab580a-50a1-41a3-b827-0793a3b18c03",
   "metadata": {},
   "outputs": [],
   "source": [
    "yards = data['YARDNAME'].drop_duplicates().sort_values()"
   ]
  },
  {
   "cell_type": "code",
   "execution_count": 46,
   "id": "e53fd3a7-859c-485d-a04b-4f2b37c0983c",
   "metadata": {},
   "outputs": [
    {
     "data": {
      "text/plain": [
       "2315"
      ]
     },
     "execution_count": 46,
     "metadata": {},
     "output_type": "execute_result"
    }
   ],
   "source": [
    "len(yards)"
   ]
  },
  {
   "cell_type": "code",
   "execution_count": 51,
   "id": "624ce7bc-0048-431f-a71d-8dcd04726956",
   "metadata": {},
   "outputs": [],
   "source": [
    "# yards.to_string()"
   ]
  },
  {
   "cell_type": "markdown",
   "id": "342034f6-2f75-465e-a905-6a83dfe43a12",
   "metadata": {},
   "source": [
    "There is a Harrisburg yard in this list."
   ]
  },
  {
   "cell_type": "code",
   "execution_count": 49,
   "id": "4b3cf352-10a0-4ac4-81fd-9df870ae4ef6",
   "metadata": {},
   "outputs": [],
   "source": [
    "h_burg_yard = data[data['YARDNAME']=='HARRISBURG YARD']"
   ]
  },
  {
   "cell_type": "code",
   "execution_count": 53,
   "id": "c8b00a84-1ceb-4eb9-ba39-f0844a483db8",
   "metadata": {},
   "outputs": [
    {
     "data": {
      "text/plain": [
       "95295     NS\n",
       "95544     NS\n",
       "95546     NS\n",
       "115694    NS\n",
       "115695    NS\n",
       "          ..\n",
       "289403    NS\n",
       "289404    NS\n",
       "289405    NS\n",
       "289406    NS\n",
       "289407    NS\n",
       "Name: RROWNER1, Length: 162, dtype: object"
      ]
     },
     "execution_count": 53,
     "metadata": {},
     "output_type": "execute_result"
    }
   ],
   "source": [
    "h_burg_yard['RROWNER1']"
   ]
  },
  {
   "cell_type": "code",
   "execution_count": 54,
   "id": "308be479-bd0e-432d-9437-4fee0b9fd7d5",
   "metadata": {},
   "outputs": [
    {
     "data": {
      "text/plain": [
       "<Axes: >"
      ]
     },
     "execution_count": 54,
     "metadata": {},
     "output_type": "execute_result"
    },
    {
     "data": {
      "image/png": "[encoded data removed]",
      "text/plain": [
       "<Figure size 640x480 with 1 Axes>"
      ]
     },
     "metadata": {},
     "output_type": "display_data"
    }
   ],
   "source": [
    "h_burg_yard.plot()"
   ]
  },
  {
   "cell_type": "markdown",
   "id": "b1cf8149-f37c-4c4d-ae42-a4f4a28ca7cd",
   "metadata": {},
   "source": [
    "## Route Analysis\n",
    "Once we map yards to FRANODEIDs we can then use networkx to find the best route from one yar dto the next. The plan should be instead to take the NARN database, simplify it a bit, then add altitude, gradient, and curvature information.\n",
    "\n",
    "We will need to modify the current database in SCORE to handle some of the additional field we want.\n",
    "\n",
    "We can look at the secpodn record in the mainline data and see that the mainline data includes more than the 7 class 1 railroads. So the next step is to filter this down to the 7 class 1s."
   ]
  },
  {
   "cell_type": "code",
   "execution_count": 55,
   "id": "5da57c33-9d8b-4170-a370-8eb75b08f915",
   "metadata": {},
   "outputs": [
    {
     "data": {
      "text/plain": [
       "OBJECTID                                                         3\n",
       "FRAARCID                                                    300002\n",
       "FRFRANODE                                                   330112\n",
       "TOFRANODE                                                   330117\n",
       "STFIPS                                                          16\n",
       "CNTYFIPS                                                       031\n",
       "STCNTYFIPS                                                   16031\n",
       "STATEAB                                                         ID\n",
       "COUNTRY                                                         US\n",
       "FRADISTRCT                                                       8\n",
       "RROWNER1                                                      EIRR\n",
       "RROWNER2                                                       NaN\n",
       "RROWNER3                                                       NaN\n",
       "TRKRGHTS1                                                      NaN\n",
       "TRKRGHTS2                                                      NaN\n",
       "TRKRGHTS3                                                      NaN\n",
       "TRKRGHTS4                                                      NaN\n",
       "TRKRGHTS5                                                      NaN\n",
       "TRKRGHTS6                                                      NaN\n",
       "TRKRGHTS7                                                      NaN\n",
       "TRKRGHTS8                                                      NaN\n",
       "TRKRGHTS9                                                      NaN\n",
       "DIVISION                                                  SOUTHERN\n",
       "SUBDIV                                                  TWIN FALLS\n",
       "BRANCH                                                  TWIN FALLS\n",
       "YARDNAME                                                       NaN\n",
       "PASSNGR                                                        NaN\n",
       "STRACNET                                                       NaN\n",
       "TRACKS                                                         1.0\n",
       "NET                                                              M\n",
       "MILES                                                      0.22182\n",
       "KM                                                        0.356985\n",
       "TIMEZONE                                                         M\n",
       "ShapeSTLength                                           483.919572\n",
       "geometry         LINESTRING (-12666523.882100001 5242555.152900...\n",
       "Name: 2, dtype: object"
      ]
     },
     "execution_count": 55,
     "metadata": {},
     "output_type": "execute_result"
    }
   ],
   "source": [
    "m_data.iloc[1]"
   ]
  },
  {
   "cell_type": "markdown",
   "id": "4b2f5498-279f-48dc-82ca-d85ea4db7b9c",
   "metadata": {},
   "source": [
    "Lets create a list of the majors."
   ]
  },
  {
   "cell_type": "code",
   "execution_count": 61,
   "id": "ade31d55-62c0-40fe-a894-35b1d3060590",
   "metadata": {},
   "outputs": [
    {
     "data": {
      "text/plain": [
       "['BNSF', 'CN', 'CP', 'CSXT', 'NS', 'KCS', 'UP']"
      ]
     },
     "execution_count": 61,
     "metadata": {},
     "output_type": "execute_result"
    }
   ],
   "source": [
    "rrs = [r['code'] for r in railroads]\n",
    "rrs"
   ]
  },
  {
   "cell_type": "code",
   "execution_count": 62,
   "id": "e7d9d0f4-53b2-4ffd-a925-19e547b012fc",
   "metadata": {},
   "outputs": [],
   "source": [
    "mc1_data = m_data[m_data[['RROWNER1', 'RROWNER2', 'RROWNER3', 'TRKRGHTS1', 'TRKRGHTS2', 'TRKRGHTS3', 'TRKRGHTS4', 'TRKRGHTS5', 'TRKRGHTS6', 'TRKRGHTS7', 'TRKRGHTS8', 'TRKRGHTS9']].isin(rrs).any(axis=1)]"
   ]
  },
  {
   "cell_type": "code",
   "execution_count": 63,
   "id": "3d85dd3c-d8e4-40ce-8966-36b55901f1d6",
   "metadata": {},
   "outputs": [
    {
     "data": {
      "text/plain": [
       "66601"
      ]
     },
     "execution_count": 63,
     "metadata": {},
     "output_type": "execute_result"
    }
   ],
   "source": [
    "len(mc1_data)"
   ]
  },
  {
   "cell_type": "markdown",
   "id": "db636e62-7c61-449e-8cb7-a4327c54ab59",
   "metadata": {},
   "source": [
    "We have limited the original dataset of line segments to 66,601 down from the original 302,988. We have also reduced the segment from all mainlines from 97,100."
   ]
  },
  {
   "cell_type": "code",
   "execution_count": 64,
   "id": "9a905ff8-0af6-4f2d-94a5-93d4e63c37c1",
   "metadata": {},
   "outputs": [
    {
     "data": {
      "text/plain": [
       "97100"
      ]
     },
     "execution_count": 64,
     "metadata": {},
     "output_type": "execute_result"
    }
   ],
   "source": [
    "len(m_data)"
   ]
  },
  {
   "cell_type": "code",
   "execution_count": 65,
   "id": "d4be29df-d917-444c-b7e1-5e90613cc437",
   "metadata": {},
   "outputs": [
    {
     "data": {
      "text/plain": [
       "OBJECTID                                                         6\n",
       "FRAARCID                                                    300005\n",
       "FRFRANODE                                                   329504\n",
       "TOFRANODE                                                   329511\n",
       "STFIPS                                                          16\n",
       "CNTYFIPS                                                       063\n",
       "STCNTYFIPS                                                   16063\n",
       "STATEAB                                                         ID\n",
       "COUNTRY                                                         US\n",
       "FRADISTRCT                                                       8\n",
       "RROWNER1                                                        UP\n",
       "RROWNER2                                                       NaN\n",
       "RROWNER3                                                       NaN\n",
       "TRKRGHTS1                                                      NaN\n",
       "TRKRGHTS2                                                      NaN\n",
       "TRKRGHTS3                                                      NaN\n",
       "TRKRGHTS4                                                      NaN\n",
       "TRKRGHTS5                                                      NaN\n",
       "TRKRGHTS6                                                      NaN\n",
       "TRKRGHTS7                                                      NaN\n",
       "TRKRGHTS8                                                      NaN\n",
       "TRKRGHTS9                                                      NaN\n",
       "DIVISION                                         PACIFIC NORTHWEST\n",
       "SUBDIV                                                       NAMPA\n",
       "BRANCH                                                        #N\\A\n",
       "YARDNAME                                                       NaN\n",
       "PASSNGR                                                        NaN\n",
       "STRACNET                                                         S\n",
       "TRACKS                                                         2.0\n",
       "NET                                                              M\n",
       "MILES                                                     0.795064\n",
       "KM                                                        1.279534\n",
       "TIMEZONE                                                         M\n",
       "ShapeSTLength                                          1746.104404\n",
       "geometry         LINESTRING (-12734933.6538 5301812.273800001, ...\n",
       "Name: 5, dtype: object"
      ]
     },
     "execution_count": 65,
     "metadata": {},
     "output_type": "execute_result"
    }
   ],
   "source": [
    "mc1_data.iloc[1]"
   ]
  },
  {
   "cell_type": "markdown",
   "id": "ec7869cb-cef7-4267-8d19-13bb4b18dc58",
   "metadata": {},
   "source": [
    "We should take some time to reduce the number of points that are included in the geometry linestring. It can cause soem issues when they are nearly on top of each and don't tend to add any useful information for our purposes."
   ]
  },
  {
   "cell_type": "code",
   "execution_count": 73,
   "id": "fe634026-621c-4dd0-a775-34654878ac89",
   "metadata": {},
   "outputs": [],
   "source": [
    "seg6=mc1_data[mc1_data['OBJECTID']==6]"
   ]
  },
  {
   "cell_type": "code",
   "execution_count": 76,
   "id": "8d69c265-9249-454d-bbeb-7d677ac8dbd8",
   "metadata": {},
   "outputs": [
    {
     "data": {
      "text/plain": [
       "17"
      ]
     },
     "execution_count": 76,
     "metadata": {},
     "output_type": "execute_result"
    }
   ],
   "source": [
    "len(seg6['geometry'].get_coordinates())"
   ]
  },
  {
   "cell_type": "markdown",
   "id": "e8fc62ae-ffc2-46f3-ab06-d6a6e059d015",
   "metadata": {},
   "source": [
    "Lets look at the distribution of points."
   ]
  },
  {
   "cell_type": "code",
   "execution_count": 84,
   "id": "4c843904-9f60-4fdf-bfc4-cefa58e510b6",
   "metadata": {},
   "outputs": [
    {
     "data": {
      "text/plain": [
       "[<matplotlib.lines.Line2D at 0x7f5c475e2e90>]"
      ]
     },
     "execution_count": 84,
     "metadata": {},
     "output_type": "execute_result"
    },
    {
     "data": {
      "image/png": "[encoded data removed]",
      "text/plain": [
       "<Figure size 640x480 with 1 Axes>"
      ]
     },
     "metadata": {},
     "output_type": "display_data"
    }
   ],
   "source": [
    "coords = seg6.get_coordinates()\n",
    "fig, ax = plt.subplots()\n",
    "plt.plot(list(coords.x),list(coords.y), '.b')"
   ]
  },
  {
   "cell_type": "code",
   "execution_count": 86,
   "id": "e1058a86-b447-4be6-a35d-26a2fb95cf85",
   "metadata": {},
   "outputs": [
    {
     "data": {
      "text/plain": [
       "5    1746.104404\n",
       "dtype: float64"
      ]
     },
     "execution_count": 86,
     "metadata": {},
     "output_type": "execute_result"
    }
   ],
   "source": [
    "seg6.length"
   ]
  },
  {
   "cell_type": "markdown",
   "id": "47114c25-fc60-4ce7-ab67-95939ebde125",
   "metadata": {},
   "source": [
    "We can see that the points are not evenly distributed along the line segment. Lets's try to simplify this line ssegment usign built-in tools."
   ]
  },
  {
   "cell_type": "code",
   "execution_count": 80,
   "id": "8139c66e-6ba1-47b6-a278-dc893b428fd2",
   "metadata": {},
   "outputs": [],
   "source": [
    "simp6 = seg6.simplify(1, preserve_topology=False)"
   ]
  },
  {
   "cell_type": "code",
   "execution_count": 82,
   "id": "2a06266d-fff8-485e-ae1b-183196d6c835",
   "metadata": {},
   "outputs": [
    {
     "data": {
      "text/plain": [
       "2"
      ]
     },
     "execution_count": 82,
     "metadata": {},
     "output_type": "execute_result"
    }
   ],
   "source": [
    "len(simp6.get_coordinates())"
   ]
  },
  {
   "cell_type": "markdown",
   "id": "3a26c7f6-c328-49f7-8dbf-869455053676",
   "metadata": {},
   "source": [
    "because this segment is a straight line, it can be handled with 2 points. This may not be approripate at all times and it may be better to include some interim points, eseciallyt when we want to get altitudes to calculate some gradients."
   ]
  },
  {
   "cell_type": "code",
   "execution_count": 83,
   "id": "6175e089-b0a3-4c4d-bacf-bf3b0615b8a7",
   "metadata": {},
   "outputs": [
    {
     "data": {
      "text/plain": [
       "5    1746.104404\n",
       "dtype: float64"
      ]
     },
     "execution_count": 83,
     "metadata": {},
     "output_type": "execute_result"
    }
   ],
   "source": [
    "simp6.length"
   ]
  },
  {
   "cell_type": "markdown",
   "id": "a85ff9ca-d450-4419-9991-0e4f7e402e46",
   "metadata": {},
   "source": [
    "Lets redistrubute points along the line more evenly."
   ]
  },
  {
   "cell_type": "code",
   "execution_count": 88,
   "id": "abcec27a-21a1-4479-bb7f-ad0f4ccc668b",
   "metadata": {},
   "outputs": [],
   "source": [
    "new6 = simp6.segmentize(max_segment_length=200)"
   ]
  },
  {
   "cell_type": "code",
   "execution_count": 89,
   "id": "5e578343-8bb0-466f-b2e1-d4a8434f66a1",
   "metadata": {},
   "outputs": [
    {
     "data": {
      "text/plain": [
       "[<matplotlib.lines.Line2D at 0x7f5c46e70510>]"
      ]
     },
     "execution_count": 89,
     "metadata": {},
     "output_type": "execute_result"
    },
    {
     "data": {
      "image/png": "[encoded data removed]",
      "text/plain": [
       "<Figure size 640x480 with 1 Axes>"
      ]
     },
     "metadata": {},
     "output_type": "display_data"
    }
   ],
   "source": [
    "coords = new6.get_coordinates()\n",
    "fig, ax = plt.subplots()\n",
    "plt.plot(list(coords.x),list(coords.y), '.b')"
   ]
  },
  {
   "cell_type": "code",
   "execution_count": 90,
   "id": "d85017cc-df44-47b1-a080-e283839b6ab3",
   "metadata": {},
   "outputs": [
    {
     "data": {
      "text/plain": [
       "10"
      ]
     },
     "execution_count": 90,
     "metadata": {},
     "output_type": "execute_result"
    }
   ],
   "source": [
    "len(new6.get_coordinates())"
   ]
  },
  {
   "cell_type": "markdown",
   "id": "c9075877-3683-4268-b0f3-9a66497c969c",
   "metadata": {},
   "source": [
    "This has done a much better job of distrubuting points along the line segment. The next step is to go grab some altitudes for this data. We first need to convert the data back to lat/long (ESPG:4326)"
   ]
  },
  {
   "cell_type": "code",
   "execution_count": 91,
   "id": "e524157f-a127-44c9-828e-87fad26dcfed",
   "metadata": {},
   "outputs": [],
   "source": [
    "new6=new6.to_crs(4326)"
   ]
  },
  {
   "cell_type": "code",
   "execution_count": 101,
   "id": "26d3060f-3ac7-4adc-98cf-71e41f1e5d51",
   "metadata": {},
   "outputs": [],
   "source": [
    "coords = new6.get_coordinates()\n",
    "elev = []\n",
    "for i in range(len(coords)):\n",
    "    lng, lat = coords.iloc[i]\n",
    "    api_url = \"https://epqs.nationalmap.gov/v1/json?x=\" + str(lng) + \"&y=\" + str(lat) + \"&units=Meters&wkid=4326&includeDate=False\"\n",
    "    response = requests.get(api_url)\n",
    "    elev.append(float(response.json()['value']))\n"
   ]
  },
  {
   "cell_type": "code",
   "execution_count": 102,
   "id": "1c5f4eac-f14c-4108-9114-eab4ceda9ce0",
   "metadata": {},
   "outputs": [
    {
     "data": {
      "text/plain": [
       "[1210.439575195,\n",
       " 1210.874511719,\n",
       " 1210.852294922,\n",
       " 1210.848632813,\n",
       " 1210.553466797,\n",
       " 1210.453857422,\n",
       " 1210.960327148,\n",
       " 1210.950439453,\n",
       " 1210.951538086,\n",
       " 1210.955200195]"
      ]
     },
     "execution_count": 102,
     "metadata": {},
     "output_type": "execute_result"
    }
   ],
   "source": [
    "elev"
   ]
  },
  {
   "cell_type": "code",
   "execution_count": 107,
   "id": "16958820-59d6-4aab-bbf2-b1e84e9e8581",
   "metadata": {},
   "outputs": [
    {
     "data": {
      "text/plain": [
       "[<matplotlib.lines.Line2D at 0x7f5c46fecf10>]"
      ]
     },
     "execution_count": 107,
     "metadata": {},
     "output_type": "execute_result"
    },
    {
     "data": {
      "image/png": "[encoded data removed]",
      "text/plain": [
       "<Figure size 640x480 with 1 Axes>"
      ]
     },
     "metadata": {},
     "output_type": "display_data"
    }
   ],
   "source": [
    "plt.plot(np.array(elev)-1210)"
   ]
  },
  {
   "cell_type": "markdown",
   "id": "7e6df52e-fcfb-46e9-abb7-56cb5fb2aeec",
   "metadata": {},
   "source": [
    "This raw data appears to be relatively noisy. We can be assured that there is a significant amount of smoothing done on the railroad bed itself."
   ]
  },
  {
   "cell_type": "code",
   "execution_count": null,
   "id": "6bd079c5-1ea7-4870-bab4-5d23a5516885",
   "metadata": {},
   "outputs": [],
   "source": []
  }
 ],
 "metadata": {
  "kernelspec": {
   "display_name": "Python 3 (ipykernel)",
   "language": "python",
   "name": "python3"
  },
  "language_info": {
   "codemirror_mode": {
    "name": "ipython",
    "version": 3
   },
   "file_extension": ".py",
   "mimetype": "text/x-python",
   "name": "python",
   "nbconvert_exporter": "python",
   "pygments_lexer": "ipython3",
   "version": "3.11.5"
  }
 },
 "nbformat": 4,
 "nbformat_minor": 5
}
