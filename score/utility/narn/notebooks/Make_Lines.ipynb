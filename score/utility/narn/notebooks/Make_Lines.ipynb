{
 "cells": [
  {
   "cell_type": "markdown",
   "id": "30ee6b51-40f3-4ae3-9d1b-b855b7cddad2",
   "metadata": {},
   "source": [
    "# Make Lines\n",
    "In this notebook we take the NARN database and take the lines from it to place into the database. Many of these lines are not used in the routes but are included for completeness.\n",
    "\n",
    "The process starts with determining if the Line has rights for any of the major railroads. If it does, then the Line is added to the database. At a later time, these lines can be used to determine routes. If the line is part of a route it can then be used to get associated elevations.\n",
    "\n",
    "The latest version of the NARN database uses MultiLineStrings now instead of LineStrings. This data is converted to arrays of data instead and is saved in the database. Additionally, this data is modified to better spread and cover the line represented by the locations."
   ]
  },
  {
   "cell_type": "code",
   "execution_count": 1,
   "id": "1a680518-4cc9-497a-b91e-78d948dad8ea",
   "metadata": {},
   "outputs": [],
   "source": [
    "import geopandas as gpd\n",
    "import networkx as nx\n",
    "from shapely import geometry, ops\n",
    "import numpy as np\n",
    "import matplotlib.pyplot as plt\n",
    "import requests\n",
    "import pandas as pd\n",
    "import folium\n",
    "import time\n",
    "from requests.auth import AuthBase\n",
    "import os\n",
    "from scipy.spatial import distance"
   ]
  },
  {
   "cell_type": "code",
   "execution_count": 2,
   "id": "04d6ccda-42fa-4c03-a609-19db628586f7",
   "metadata": {},
   "outputs": [
    {
     "name": "stderr",
     "output_type": "stream",
     "text": [
      "ERROR 1: PROJ: proj_create_from_database: Open of /opt/conda/share/proj failed\n"
     ]
    }
   ],
   "source": [
    "data = gpd.read_file(\"North_American_Rail_Network_Lines.geojson\")"
   ]
  },
  {
   "cell_type": "markdown",
   "id": "6f602f69-4078-4a4e-9f42-6a493af878f5",
   "metadata": {},
   "source": [
    "The column used to all be capitalized, now they are lower case."
   ]
  },
  {
   "cell_type": "code",
   "execution_count": 3,
   "id": "72a4c695-ddda-4015-89ef-3217acb75d29",
   "metadata": {},
   "outputs": [
    {
     "data": {
      "text/plain": [
       "Index(['objectid', 'fraarcid', 'frfranode', 'tofranode', 'stfips', 'cntyfips',\n",
       "       'stcntyfips', 'stateab', 'country', 'fradistrct', 'rrowner1',\n",
       "       'rrowner2', 'rrowner3', 'trkrghts1', 'trkrghts2', 'trkrghts3',\n",
       "       'trkrghts4', 'trkrghts5', 'trkrghts6', 'trkrghts7', 'trkrghts8',\n",
       "       'trkrghts9', 'division', 'subdiv', 'branch', 'yardname', 'passngr',\n",
       "       'stracnet', 'tracks', 'net', 'miles', 'km', 'timezone', 'shape_Length',\n",
       "       'geometry'],\n",
       "      dtype='object')"
      ]
     },
     "execution_count": 3,
     "metadata": {},
     "output_type": "execute_result"
    }
   ],
   "source": [
    "data.columns"
   ]
  },
  {
   "cell_type": "markdown",
   "id": "2d3a1edf-60b8-492b-8067-9f3c258919f8",
   "metadata": {},
   "source": [
    "The geometry element in the data consists of MultiLineString for some reason. We need to convert this to LineStrings? "
   ]
  },
  {
   "cell_type": "code",
   "execution_count": 4,
   "id": "6c3dc926-d681-40d2-b387-502350696b8b",
   "metadata": {},
   "outputs": [],
   "source": [
    "data6 = data.explode(index_parts=True)"
   ]
  },
  {
   "cell_type": "code",
   "execution_count": 5,
   "id": "a678f746-f5ec-4e24-b690-7e47ece6d284",
   "metadata": {},
   "outputs": [],
   "source": [
    "data5 = data6.to_crs(3857)"
   ]
  },
  {
   "cell_type": "markdown",
   "id": "5fa62661-004c-4d4e-9f1d-51ed7e9d51ae",
   "metadata": {},
   "source": [
    "We can simplify the linestaings, but the result of this is just geometry - we lose the dataframe."
   ]
  },
  {
   "cell_type": "code",
   "execution_count": 6,
   "id": "21df4836-e78e-4c52-9942-ab831cddddcd",
   "metadata": {},
   "outputs": [],
   "source": [
    "data5.geometry = data5.simplify(1, preserve_topology=False)"
   ]
  },
  {
   "cell_type": "markdown",
   "id": "7bed5d6e-826f-48fc-92b6-181047821b87",
   "metadata": {},
   "source": [
    "We also need to add a locations to reduce maximum distance between locations."
   ]
  },
  {
   "cell_type": "code",
   "execution_count": 7,
   "id": "e1f67931-b303-4da5-889c-9dfc312d5ab2",
   "metadata": {},
   "outputs": [],
   "source": [
    "data5.geometry = data5.segmentize(max_segment_length=200)"
   ]
  },
  {
   "cell_type": "code",
   "execution_count": 8,
   "id": "19228c08-2c78-4349-978f-caf55d59186d",
   "metadata": {},
   "outputs": [],
   "source": [
    "data2 = data5.to_crs(4326)"
   ]
  },
  {
   "cell_type": "code",
   "execution_count": 9,
   "id": "96567f3c-8104-4ead-bd66-8438c17bab9d",
   "metadata": {},
   "outputs": [],
   "source": [
    "URL =\"http://score-web-1:8000\"\n",
    "URL1 = URL+\"/api-token-auth/\"\n",
    "payload = {'username':'locomotives', 'password':'locomotives'}\n",
    "URL2 = URL+\"/api/line/add/\"\n",
    "URL3 = URL+'/api/railroad/'\n",
    "URL4 = URL + \"/api/line/\""
   ]
  },
  {
   "cell_type": "code",
   "execution_count": 10,
   "id": "33759d16-3da6-4436-8be7-c445c8105b7a",
   "metadata": {},
   "outputs": [],
   "source": [
    "t = requests.post(URL1, data=payload )\n",
    "token = t.json().get('token')"
   ]
  },
  {
   "cell_type": "code",
   "execution_count": 11,
   "id": "bfe98c66-f59d-45c5-817a-60ff1ec779c9",
   "metadata": {},
   "outputs": [],
   "source": [
    "class TokenAuth(AuthBase):\n",
    "    \"\"\" Implements a custom authentication scheme. \"\"\"\n",
    "\n",
    "    def __init__(self, token):\n",
    "        self.token = token\n",
    "\n",
    "    def __call__(self, r):\n",
    "        \"\"\" Attach an API token to a custom auth header. \"\"\"\n",
    "        r.headers['Authorization'] = \"Token \" + f'{self.token}'\n",
    "        return r"
   ]
  },
  {
   "cell_type": "code",
   "execution_count": 12,
   "id": "2f0be3e2-a65e-4ad0-922c-3d69762ae3a0",
   "metadata": {},
   "outputs": [
    {
     "data": {
      "text/plain": [
       "[{'id': 1, 'code': 'BNSF', 'name': 'Burlington Northern and Santa Fe'},\n",
       " {'id': 2, 'code': 'CN', 'name': 'Canadian National Railway'},\n",
       " {'id': 3, 'code': 'CP', 'name': 'Canadian Pacific Railway'},\n",
       " {'id': 4, 'code': 'CSXT', 'name': 'CSX Transportation'},\n",
       " {'id': 5, 'code': 'NS', 'name': 'Norfolk Southern Railway'},\n",
       " {'id': 6, 'code': 'KCS', 'name': 'Kansas City Southern Railway'},\n",
       " {'id': 7, 'code': 'UP', 'name': 'Union Pacific'}]"
      ]
     },
     "execution_count": 12,
     "metadata": {},
     "output_type": "execute_result"
    }
   ],
   "source": [
    "r = requests.get(URL3, auth=TokenAuth(token))\n",
    "railroads=r.json()['results']\n",
    "railroads"
   ]
  },
  {
   "cell_type": "code",
   "execution_count": 13,
   "id": "eaa18617-566b-40ef-9f9e-74941c4f503c",
   "metadata": {},
   "outputs": [],
   "source": [
    "def curve(p1, p2, p3):\n",
    "    v1=p2-p1\n",
    "    v2=p3-p2\n",
    "    v3=p1-p3\n",
    "    d1=np.linalg.norm(v1)\n",
    "    d2=np.linalg.norm(v2)\n",
    "    d3=np.linalg.norm(v3)\n",
    "    num = 1746.375*2*np.linalg.norm(np.cross(v1,v2))\n",
    "    d = num/(d1*d2*d3)\n",
    "    if d<0.01:\n",
    "        d=0.0\n",
    "    return d"
   ]
  },
  {
   "cell_type": "markdown",
   "id": "08249908-195a-4360-86d4-5c8975a32984",
   "metadata": {},
   "source": [
    "The process will go through each line segment that is in the NARN database and determine which of the 7 Class 1 railroads may have rights. If any have rigfhts it is included in the database and further processing is completed.\n",
    "\n",
    "The next step is to simplify and segmentize the data.\n",
    "\n",
    "We can include curvature at this point also, but not go through the expense of determining elevations and gradients.\n",
    "This will be delayed until we cna determine if the Line segment is part of a route of interest."
   ]
  },
  {
   "cell_type": "code",
   "execution_count": 14,
   "id": "f093b1a0-a370-4e98-a818-d34420a5b579",
   "metadata": {},
   "outputs": [
    {
     "data": {
      "text/plain": [
       "['BNSF', 'CN', 'CP', 'CSXT', 'NS', 'KCS', 'UP']"
      ]
     },
     "execution_count": 14,
     "metadata": {},
     "output_type": "execute_result"
    }
   ],
   "source": [
    "codes = [d['code'] for d in railroads]\n",
    "codes"
   ]
  },
  {
   "cell_type": "code",
   "execution_count": 15,
   "id": "21df78e7-16e2-4e61-9709-22d587375e41",
   "metadata": {},
   "outputs": [
    {
     "data": {
      "text/plain": [
       "[1, 2, 3, 4, 5, 6, 7]"
      ]
     },
     "execution_count": 15,
     "metadata": {},
     "output_type": "execute_result"
    }
   ],
   "source": [
    "ids = [d['id'] for d in railroads]\n",
    "ids"
   ]
  },
  {
   "cell_type": "markdown",
   "id": "77dfcd07-d3e1-42c2-9aa5-c8b1cdc1c627",
   "metadata": {},
   "source": [
    "Need to do some work on converting lat longs and x, y in meters."
   ]
  },
  {
   "cell_type": "code",
   "execution_count": 16,
   "id": "e0b152c8-87ac-430c-9c2a-9986a63056d7",
   "metadata": {},
   "outputs": [],
   "source": [
    "data2_xy = data2.to_crs(3857)"
   ]
  },
  {
   "cell_type": "markdown",
   "id": "01807da5-9690-41a9-9193-301439a0af63",
   "metadata": {},
   "source": [
    "Still need to simplify and segmentize the xy data."
   ]
  },
  {
   "cell_type": "code",
   "execution_count": 17,
   "id": "6d15654f-dfeb-4163-9d47-9d4de48eafe5",
   "metadata": {},
   "outputs": [],
   "source": [
    "for index, row in data2.iterrows():\n",
    "    # if index[0] < 10:\n",
    "    if True:\n",
    "        if row[['rrowner1', 'rrowner2', 'rrowner3', 'trkrghts1', 'trkrghts2', 'trkrghts3', 'trkrghts4', 'trkrghts5', 'trkrghts6', 'trkrghts7', 'trkrghts8', 'trkrghts9']].isin(codes).any():\n",
    "            rights = []\n",
    "            for id, code in zip(ids, codes):\n",
    "                if row[['rrowner1', 'rrowner2', 'rrowner3', 'trkrghts1', 'trkrghts2', 'trkrghts3', 'trkrghts4', 'trkrghts5', 'trkrghts6', 'trkrghts7', 'trkrghts8', 'trkrghts9']].isin([code]).any():\n",
    "                    rights.append(code)\n",
    "            rowxy = data2_xy.iloc[index[0]]\n",
    "            p = np.array(rowxy.geometry.coords)\n",
    "            xy = p[:,0:2]\n",
    "            # we want the interpoint distance between the points - the offset of 1, diagonal of the cdist matrix\n",
    "            dist = np.diagonal(distance.cdist(xy, xy), offset=1)\n",
    "            # lets not get elevations for now\n",
    "            lnglat = np.array(row.geometry.coords)\n",
    "            curvature=[]\n",
    "            if (len(xy)>2):\n",
    "                for i in range(len(xy)-2):\n",
    "                    curvature.append(curve(xy[i],xy[i+1],xy[i+2]))\n",
    "                curvature.append(curvature[-1])\n",
    "            else:\n",
    "                curvature = [0.0]\n",
    "            line = {\n",
    "                \"fra_id\" : rowxy['fraarcid'],\n",
    "                \"from_node\" : rowxy['frfranode'],\n",
    "                \"to_node\" : rowxy['tofranode'],\n",
    "                \"length\" : dist.sum(),\n",
    "                \"net\": rowxy['net'],\n",
    "                \"rights\" : rights,\n",
    "                \"xy\": xy.tolist(),\n",
    "                \"lnglat\": lnglat.tolist(),\n",
    "                \"curvature\": curvature,\n",
    "                \"distance\":dist.tolist()\n",
    "            }\n",
    "            requests.post(URL2, data=line, auth=TokenAuth(token))            \n",
    "    "
   ]
  },
  {
   "cell_type": "code",
   "execution_count": null,
   "id": "5fa49304-e0f4-4f58-90dd-e2b2afa4407c",
   "metadata": {},
   "outputs": [],
   "source": []
  }
 ],
 "metadata": {
  "kernelspec": {
   "display_name": "Python 3 (ipykernel)",
   "language": "python",
   "name": "python3"
  },
  "language_info": {
   "codemirror_mode": {
    "name": "ipython",
    "version": 3
   },
   "file_extension": ".py",
   "mimetype": "text/x-python",
   "name": "python",
   "nbconvert_exporter": "python",
   "pygments_lexer": "ipython3",
   "version": "3.11.9"
  }
 },
 "nbformat": 4,
 "nbformat_minor": 5
}
