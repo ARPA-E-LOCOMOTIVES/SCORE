{
 "cells": [
  {
   "cell_type": "markdown",
   "id": "13c8c84f-2669-4faa-8ae4-a0ca95b769a7",
   "metadata": {},
   "source": [
    "# LA to Chicago\n",
    "The first step in the process generating a route form LA to Chicago is to load the NARN database. From this we can extract only the tracks that are either owned by or have usage rights granted to BNSF. We also need to \"starting\" and \"ending\" node. These have been determiend previously as 320,998 and 409,862 respectively."
   ]
  },
  {
   "cell_type": "code",
   "execution_count": 1,
   "id": "182c45d3-4b64-428c-864e-e3edd8874541",
   "metadata": {},
   "outputs": [],
   "source": [
    "import geopandas as gpd\n",
    "import networkx as nx\n",
    "from shapely import geometry, ops\n",
    "import numpy as np\n",
    "import matplotlib.pyplot as plt\n",
    "import requests\n",
    "import pandas as pd\n",
    "import folium"
   ]
  },
  {
   "cell_type": "code",
   "execution_count": 2,
   "id": "c4ea4ea4-1729-43f0-bfef-d76c796288b5",
   "metadata": {},
   "outputs": [
    {
     "name": "stderr",
     "output_type": "stream",
     "text": [
      "ERROR 1: PROJ: proj_create_from_database: Open of /opt/conda/share/proj failed\n"
     ]
    }
   ],
   "source": [
    "data = gpd.read_file(\"North_American_Rail_Network_Lines.geojson\")"
   ]
  },
  {
   "cell_type": "markdown",
   "id": "624d8d90-5db4-416d-b326-1fb6cfaf7337",
   "metadata": {},
   "source": [
    "There are a significant number of \"lines\" in this database."
   ]
  },
  {
   "cell_type": "code",
   "execution_count": 3,
   "id": "def79ebb-7f48-4a71-bf9b-4d4d6b8f5ad0",
   "metadata": {},
   "outputs": [
    {
     "data": {
      "text/plain": [
       "302988"
      ]
     },
     "execution_count": 3,
     "metadata": {},
     "output_type": "execute_result"
    }
   ],
   "source": [
    "len(data)"
   ]
  },
  {
   "cell_type": "code",
   "execution_count": 9,
   "id": "e15e8717-0b0a-4937-8f6d-80eebb4b074d",
   "metadata": {},
   "outputs": [
    {
     "name": "stdout",
     "output_type": "stream",
     "text": [
      "<class 'geopandas.geodataframe.GeoDataFrame'>\n",
      "RangeIndex: 302988 entries, 0 to 302987\n",
      "Data columns (total 35 columns):\n",
      " #   Column         Non-Null Count   Dtype   \n",
      "---  ------         --------------   -----   \n",
      " 0   OBJECTID       302988 non-null  int64   \n",
      " 1   FRAARCID       302988 non-null  int64   \n",
      " 2   FRFRANODE      302988 non-null  int64   \n",
      " 3   TOFRANODE      302988 non-null  int64   \n",
      " 4   STFIPS         235945 non-null  object  \n",
      " 5   CNTYFIPS       235945 non-null  object  \n",
      " 6   STCNTYFIPS     235945 non-null  object  \n",
      " 7   STATEAB        302988 non-null  object  \n",
      " 8   COUNTRY        302988 non-null  object  \n",
      " 9   FRADISTRCT     302988 non-null  int64   \n",
      " 10  RROWNER1       299857 non-null  object  \n",
      " 11  RROWNER2       3006 non-null    object  \n",
      " 12  RROWNER3       27 non-null      object  \n",
      " 13  TRKRGHTS1      51734 non-null   object  \n",
      " 14  TRKRGHTS2      13823 non-null   object  \n",
      " 15  TRKRGHTS3      3252 non-null    object  \n",
      " 16  TRKRGHTS4      919 non-null     object  \n",
      " 17  TRKRGHTS5      264 non-null     object  \n",
      " 18  TRKRGHTS6      102 non-null     object  \n",
      " 19  TRKRGHTS7      38 non-null      object  \n",
      " 20  TRKRGHTS8      11 non-null      object  \n",
      " 21  TRKRGHTS9      2 non-null       object  \n",
      " 22  DIVISION       89015 non-null   object  \n",
      " 23  SUBDIV         184745 non-null  object  \n",
      " 24  BRANCH         88978 non-null   object  \n",
      " 25  YARDNAME       44856 non-null   object  \n",
      " 26  PASSNGR        22836 non-null   object  \n",
      " 27  STRACNET       27888 non-null   object  \n",
      " 28  TRACKS         302936 non-null  float64 \n",
      " 29  NET            302988 non-null  object  \n",
      " 30  MILES          302988 non-null  float64 \n",
      " 31  KM             302988 non-null  float64 \n",
      " 32  TIMEZONE       235945 non-null  object  \n",
      " 33  ShapeSTLength  302988 non-null  float64 \n",
      " 34  geometry       302988 non-null  geometry\n",
      "dtypes: float64(4), geometry(1), int64(5), object(25)\n",
      "memory usage: 80.9+ MB\n"
     ]
    }
   ],
   "source": [
    "data.info()"
   ]
  },
  {
   "cell_type": "markdown",
   "id": "deb58696-a271-4704-a984-3525d5e24c90",
   "metadata": {},
   "source": [
    "Lets first restict them to the ones that can be used by BNSF."
   ]
  },
  {
   "cell_type": "code",
   "execution_count": 5,
   "id": "10a3961e-35af-4c67-9352-ab7a348e1e82",
   "metadata": {},
   "outputs": [],
   "source": [
    "bnsf_data = data[data[['RROWNER1', 'RROWNER2', 'RROWNER3', 'TRKRGHTS1', 'TRKRGHTS2', 'TRKRGHTS3', 'TRKRGHTS4', 'TRKRGHTS5', 'TRKRGHTS6', 'TRKRGHTS7', 'TRKRGHTS8', 'TRKRGHTS9']].isin(['BNSF']).any(axis=1)]"
   ]
  },
  {
   "cell_type": "code",
   "execution_count": 6,
   "id": "82784330-3d4c-4a35-abf4-9a0a252285a2",
   "metadata": {},
   "outputs": [
    {
     "data": {
      "text/plain": [
       "42187"
      ]
     },
     "execution_count": 6,
     "metadata": {},
     "output_type": "execute_result"
    }
   ],
   "source": [
    "len(bnsf_data)"
   ]
  },
  {
   "cell_type": "code",
   "execution_count": 8,
   "id": "87542057-7ddc-4d17-9a3c-21948f44da5b",
   "metadata": {},
   "outputs": [],
   "source": [
    "start = bnsf_data[bnsf_data['TOFRANODE'].isin([320998])]"
   ]
  },
  {
   "cell_type": "code",
   "execution_count": 10,
   "id": "8ff481e1-03e8-4f8b-843f-ee32731a6fac",
   "metadata": {},
   "outputs": [
    {
     "data": {
      "text/html": [
       "<div>\n",
       "<style scoped>\n",
       "    .dataframe tbody tr th:only-of-type {\n",
       "        vertical-align: middle;\n",
       "    }\n",
       "\n",
       "    .dataframe tbody tr th {\n",
       "        vertical-align: top;\n",
       "    }\n",
       "\n",
       "    .dataframe thead th {\n",
       "        text-align: right;\n",
       "    }\n",
       "</style>\n",
       "<table border=\"1\" class=\"dataframe\">\n",
       "  <thead>\n",
       "    <tr style=\"text-align: right;\">\n",
       "      <th></th>\n",
       "      <th>OBJECTID</th>\n",
       "      <th>FRAARCID</th>\n",
       "      <th>FRFRANODE</th>\n",
       "      <th>TOFRANODE</th>\n",
       "      <th>STFIPS</th>\n",
       "      <th>CNTYFIPS</th>\n",
       "      <th>STCNTYFIPS</th>\n",
       "      <th>STATEAB</th>\n",
       "      <th>COUNTRY</th>\n",
       "      <th>FRADISTRCT</th>\n",
       "      <th>...</th>\n",
       "      <th>YARDNAME</th>\n",
       "      <th>PASSNGR</th>\n",
       "      <th>STRACNET</th>\n",
       "      <th>TRACKS</th>\n",
       "      <th>NET</th>\n",
       "      <th>MILES</th>\n",
       "      <th>KM</th>\n",
       "      <th>TIMEZONE</th>\n",
       "      <th>ShapeSTLength</th>\n",
       "      <th>geometry</th>\n",
       "    </tr>\n",
       "  </thead>\n",
       "  <tbody>\n",
       "    <tr>\n",
       "      <th>36307</th>\n",
       "      <td>36308</td>\n",
       "      <td>336446</td>\n",
       "      <td>321043</td>\n",
       "      <td>320998</td>\n",
       "      <td>06</td>\n",
       "      <td>037</td>\n",
       "      <td>06037</td>\n",
       "      <td>CA</td>\n",
       "      <td>US</td>\n",
       "      <td>7</td>\n",
       "      <td>...</td>\n",
       "      <td>None</td>\n",
       "      <td>None</td>\n",
       "      <td>None</td>\n",
       "      <td>1.0</td>\n",
       "      <td>M</td>\n",
       "      <td>0.253699</td>\n",
       "      <td>0.408289</td>\n",
       "      <td>P</td>\n",
       "      <td>491.521964</td>\n",
       "      <td>LINESTRING (-118.24918 33.75628, -118.25063 33...</td>\n",
       "    </tr>\n",
       "  </tbody>\n",
       "</table>\n",
       "<p>1 rows × 35 columns</p>\n",
       "</div>"
      ],
      "text/plain": [
       "       OBJECTID  FRAARCID  FRFRANODE  TOFRANODE STFIPS CNTYFIPS STCNTYFIPS  \\\n",
       "36307     36308    336446     321043     320998     06      037      06037   \n",
       "\n",
       "      STATEAB COUNTRY  FRADISTRCT  ... YARDNAME PASSNGR STRACNET TRACKS NET  \\\n",
       "36307      CA      US           7  ...     None    None     None    1.0   M   \n",
       "\n",
       "          MILES        KM TIMEZONE ShapeSTLength  \\\n",
       "36307  0.253699  0.408289        P    491.521964   \n",
       "\n",
       "                                                geometry  \n",
       "36307  LINESTRING (-118.24918 33.75628, -118.25063 33...  \n",
       "\n",
       "[1 rows x 35 columns]"
      ]
     },
     "execution_count": 10,
     "metadata": {},
     "output_type": "execute_result"
    }
   ],
   "source": [
    "start"
   ]
  },
  {
   "cell_type": "code",
   "execution_count": 11,
   "id": "a44a7b47-24b8-47b8-bfb6-b15d6e1b8b4e",
   "metadata": {},
   "outputs": [
    {
     "data": {
      "text/plain": [
       "36307    LINESTRING (-118.24918 33.75628, -118.25063 33...\n",
       "Name: geometry, dtype: geometry"
      ]
     },
     "execution_count": 11,
     "metadata": {},
     "output_type": "execute_result"
    }
   ],
   "source": [
    "start.geometry"
   ]
  },
  {
   "cell_type": "code",
   "execution_count": null,
   "id": "9472f36b-95f6-453c-84f2-d790173e18ae",
   "metadata": {},
   "outputs": [],
   "source": []
  }
 ],
 "metadata": {
  "kernelspec": {
   "display_name": "Python 3 (ipykernel)",
   "language": "python",
   "name": "python3"
  },
  "language_info": {
   "codemirror_mode": {
    "name": "ipython",
    "version": 3
   },
   "file_extension": ".py",
   "mimetype": "text/x-python",
   "name": "python",
   "nbconvert_exporter": "python",
   "pygments_lexer": "ipython3",
   "version": "3.11.6"
  }
 },
 "nbformat": 4,
 "nbformat_minor": 5
}
