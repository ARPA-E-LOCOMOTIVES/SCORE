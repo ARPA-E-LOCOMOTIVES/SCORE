{
 "cells": [
  {
   "cell_type": "markdown",
   "id": "3f1959a0-eb60-461d-9e56-f69bb15df331",
   "metadata": {},
   "source": [
    "# Create a route from Chicago to Columbus\n",
    "This notebook will use the Line data that is stored in the database rather than use the NARN geojson file.\n"
   ]
  },
  {
   "cell_type": "code",
   "execution_count": 1,
   "id": "5d36371f-a131-4faa-950a-d25bab3bde34",
   "metadata": {},
   "outputs": [],
   "source": [
    "import geopandas as gpd\n",
    "import networkx as nx\n",
    "from shapely import geometry, ops\n",
    "import numpy as np\n",
    "import matplotlib.pyplot as plt\n",
    "import requests\n",
    "import pandas as pd\n",
    "import folium\n",
    "import time\n",
    "from requests.auth import AuthBase\n",
    "import os\n",
    "from scipy.spatial import distance"
   ]
  },
  {
   "cell_type": "code",
   "execution_count": 2,
   "id": "35efe510-c9ab-44b3-ab67-e109bef17ef4",
   "metadata": {},
   "outputs": [],
   "source": [
    "URL =\"http://score-web-1:8000\"\n",
    "URL1 = URL+\"/api-token-auth/\"\n",
    "payload = {'username':'locomotives', 'password':'locomotives'}\n",
    "URL2 = URL+\"/api/line/add/\"\n",
    "URL3 = URL+'/api/railroad/'\n",
    "URL4 = URL + \"/api/line/\"\n",
    "URL5 = URL + \"/api/route/add/\"\n",
    "URL6 = URL + \"/api/yard/all/\"\n",
    "URL7 = URL + \"/api/yard/\"\n",
    "URL8 = URL + \"/api/lines/railroad/\""
   ]
  },
  {
   "cell_type": "code",
   "execution_count": 3,
   "id": "b06e751b-3bb4-4ae5-ada6-1478c7aec301",
   "metadata": {},
   "outputs": [],
   "source": [
    "t = requests.post(URL1, data=payload )\n",
    "token = t.json().get('token')"
   ]
  },
  {
   "cell_type": "code",
   "execution_count": 4,
   "id": "e473df8f-3a8c-42f3-bb97-4d97595f6780",
   "metadata": {},
   "outputs": [],
   "source": [
    "class TokenAuth(AuthBase):\n",
    "    \"\"\" Implements a custom authentication scheme. \"\"\"\n",
    "\n",
    "    def __init__(self, token):\n",
    "        self.token = token\n",
    "\n",
    "    def __call__(self, r):\n",
    "        \"\"\" Attach an API token to a custom auth header. \"\"\"\n",
    "        r.headers['Authorization'] = \"Token \" + f'{self.token}'\n",
    "        return r"
   ]
  },
  {
   "cell_type": "code",
   "execution_count": 5,
   "id": "d1065f8f-b2f6-4277-b474-bfe079444660",
   "metadata": {},
   "outputs": [
    {
     "data": {
      "text/plain": [
       "[{'id': 1, 'code': 'BNSF', 'name': 'Burlington Northern and Santa Fe'},\n",
       " {'id': 2, 'code': 'CN', 'name': 'Canadian National Railway'},\n",
       " {'id': 3, 'code': 'CP', 'name': 'Canadian Pacific Railway'},\n",
       " {'id': 4, 'code': 'CSXT', 'name': 'CSX Transportation'},\n",
       " {'id': 5, 'code': 'NS', 'name': 'Norfolk Southern Railway'},\n",
       " {'id': 6, 'code': 'KCS', 'name': 'Kansas City Southern Railway'},\n",
       " {'id': 7, 'code': 'UP', 'name': 'Union Pacific'}]"
      ]
     },
     "execution_count": 5,
     "metadata": {},
     "output_type": "execute_result"
    }
   ],
   "source": [
    "r = requests.get(URL3, auth=TokenAuth(token))\n",
    "railroads=r.json()['results']\n",
    "railroads"
   ]
  },
  {
   "cell_type": "code",
   "execution_count": 6,
   "id": "54c0d995-e353-42e8-86fb-1a806b607ecc",
   "metadata": {},
   "outputs": [
    {
     "data": {
      "text/plain": [
       "[{'id': 1, 'name': 'Landers Yard'}, {'id': 2, 'name': 'Rickenbacker'}]"
      ]
     },
     "execution_count": 6,
     "metadata": {},
     "output_type": "execute_result"
    }
   ],
   "source": [
    "response = requests.get(URL6, auth=TokenAuth(token))\n",
    "yards = response.json()['results']\n",
    "yards"
   ]
  },
  {
   "cell_type": "code",
   "execution_count": 7,
   "id": "201d202f-8f03-4ce3-829e-9289141fc2b3",
   "metadata": {},
   "outputs": [
    {
     "data": {
      "text/plain": [
       "{'id': 1,\n",
       " 'code': 'LND',\n",
       " 'name': 'Landers Yard',\n",
       " 'city': 'Chicago',\n",
       " 'state': 'IL',\n",
       " 'location': 414008,\n",
       " 'owner': 7}"
      ]
     },
     "execution_count": 7,
     "metadata": {},
     "output_type": "execute_result"
    }
   ],
   "source": [
    "response = requests.get(URL7+'1', auth=TokenAuth(token))\n",
    "start = response.json()['results']\n",
    "start"
   ]
  },
  {
   "cell_type": "code",
   "execution_count": 8,
   "id": "a1449d67-09b0-4ff6-b3f3-a411226e4cc5",
   "metadata": {},
   "outputs": [
    {
     "data": {
      "text/plain": [
       "{'id': 2,\n",
       " 'code': 'RIC',\n",
       " 'name': 'Rickenbacker',\n",
       " 'city': 'Columus',\n",
       " 'state': 'OH',\n",
       " 'location': 442152,\n",
       " 'owner': 5}"
      ]
     },
     "execution_count": 8,
     "metadata": {},
     "output_type": "execute_result"
    }
   ],
   "source": [
    "response = requests.get(URL7+'2', auth=TokenAuth(token))\n",
    "end = response.json()['results']\n",
    "end"
   ]
  },
  {
   "cell_type": "code",
   "execution_count": 9,
   "id": "5f3121cd-1a90-4c45-9336-516e977036d2",
   "metadata": {},
   "outputs": [],
   "source": [
    "def get_alt(lat, lng):\n",
    "    st = \"\"\n",
    "    # print(lng)\n",
    "    for i in range(len(lng)):\n",
    "        st+=str(lat[i])+','+str(lng[i])+'|'\n",
    "    st=st[:-1]\n",
    "    url = \"https://maps.googleapis.com/maps/api/elevation/json?locations=\" + st + \"&key=\" + API_KEY\n",
    "    # print(url)\n",
    "    response = requests.get(url)\n",
    "    # result = response.json()['results']['elevation']\n",
    "    # print(response.status)\n",
    "    # print(response.json()['results'])\n",
    "    results = response.json()['results']\n",
    "    res = []\n",
    "    for rec in results:\n",
    "        res.append(rec['elevation'])\n",
    "    # should put in a test for response status before returning an actual value\n",
    "    return res"
   ]
  },
  {
   "cell_type": "code",
   "execution_count": 15,
   "id": "ac06da69-cbfa-4fca-b7af-990e4c4581d4",
   "metadata": {},
   "outputs": [],
   "source": [
    "response = requests.get(URL8+'NS', auth=TokenAuth(token))"
   ]
  },
  {
   "cell_type": "code",
   "execution_count": 16,
   "id": "42d5ec28-be05-4603-9427-b5bd13fab83e",
   "metadata": {},
   "outputs": [],
   "source": [
    "lines = response.json()['results']"
   ]
  },
  {
   "cell_type": "code",
   "execution_count": 17,
   "id": "b3c38d00-9a8a-4bce-84c6-0338bb51bd63",
   "metadata": {},
   "outputs": [
    {
     "data": {
      "text/plain": [
       "200"
      ]
     },
     "execution_count": 17,
     "metadata": {},
     "output_type": "execute_result"
    }
   ],
   "source": [
    "response.status_code"
   ]
  },
  {
   "cell_type": "code",
   "execution_count": 18,
   "id": "21dc766c-e93b-4488-8db2-d9a64aa78042",
   "metadata": {},
   "outputs": [
    {
     "data": {
      "text/plain": [
       "34050"
      ]
     },
     "execution_count": 18,
     "metadata": {},
     "output_type": "execute_result"
    }
   ],
   "source": [
    "len(lines)"
   ]
  },
  {
   "cell_type": "markdown",
   "id": "f7d5e9f6-a926-47de-abe5-42888a8a2948",
   "metadata": {},
   "source": [
    "This is a test to see if the length provided in the NARN database is accurate. Unfortunately it is not - ugh. It seems to be off by as much 20% from this one case. As an quick check, we can determine the straight line distance between the start adn end and even it is greater than the provided length. The result is, we need to \"fix\" the length of the segments in the databse so that our shortest path algorithm is more accurate, though it may not make too much difference when it comes to determine the shortest route, just the resulting length will be in error."
   ]
  },
  {
   "cell_type": "code",
   "execution_count": 19,
   "id": "400966fe-ce03-4597-9e62-74d43716e97f",
   "metadata": {},
   "outputs": [
    {
     "data": {
      "text/plain": [
       "656.5716965456393"
      ]
     },
     "execution_count": 19,
     "metadata": {},
     "output_type": "execute_result"
    }
   ],
   "source": [
    "np.array(lines[2]['distance']).sum()"
   ]
  },
  {
   "cell_type": "code",
   "execution_count": 20,
   "id": "f2eb0bb6-28b2-42c8-a7ba-325971245173",
   "metadata": {},
   "outputs": [
    {
     "data": {
      "text/plain": [
       "0.55419809"
      ]
     },
     "execution_count": 20,
     "metadata": {},
     "output_type": "execute_result"
    }
   ],
   "source": [
    "lines[2]['length']"
   ]
  },
  {
   "cell_type": "code",
   "execution_count": 21,
   "id": "177442ea-1c88-4fff-9daf-f59f2b9bcefc",
   "metadata": {},
   "outputs": [],
   "source": [
    "xy = np.reshape(np.array(lines[2]['xy']),(-1,2))"
   ]
  },
  {
   "cell_type": "code",
   "execution_count": 22,
   "id": "5e714c1e-f459-4ef4-9780-788761f82d9c",
   "metadata": {},
   "outputs": [
    {
     "data": {
      "text/plain": [
       "array([[-9255937.92534617,  3784295.22753769],\n",
       "       [-9255951.31151493,  3784365.25086021],\n",
       "       [-9255949.98692431,  3784398.10422973],\n",
       "       [-9255942.04071642,  3784426.26444515],\n",
       "       [-9255928.79648001,  3784457.55356336],\n",
       "       [-9255883.76685542,  3784520.13204488],\n",
       "       [-9255863.9007791 ,  3784552.98583907],\n",
       "       [-9255853.3056126 ,  3784587.40429019],\n",
       "       [-9255849.33250866,  3784624.95185198],\n",
       "       [-9255853.3056126 ,  3784660.93495479],\n",
       "       [-9255858.60330717,  3784687.5310763 ],\n",
       "       [-9255875.82053621,  3784721.95004541],\n",
       "       [-9255991.04344495,  3784883.09373564]])"
      ]
     },
     "execution_count": 22,
     "metadata": {},
     "output_type": "execute_result"
    }
   ],
   "source": [
    "xy"
   ]
  },
  {
   "cell_type": "code",
   "execution_count": 23,
   "id": "74044bea-2cd9-41c7-a3b3-b6081ead1f55",
   "metadata": {},
   "outputs": [
    {
     "data": {
      "text/plain": [
       "590.2611279024937"
      ]
     },
     "execution_count": 23,
     "metadata": {},
     "output_type": "execute_result"
    }
   ],
   "source": [
    "p1=xy[0]\n",
    "p2=xy[-1]\n",
    "np.linalg.norm(p2-p1)"
   ]
  },
  {
   "cell_type": "code",
   "execution_count": null,
   "id": "194883d9-4c0d-4a8e-bd22-c84b44aa2c6d",
   "metadata": {},
   "outputs": [],
   "source": []
  }
 ],
 "metadata": {
  "kernelspec": {
   "display_name": "Python 3 (ipykernel)",
   "language": "python",
   "name": "python3"
  },
  "language_info": {
   "codemirror_mode": {
    "name": "ipython",
    "version": 3
   },
   "file_extension": ".py",
   "mimetype": "text/x-python",
   "name": "python",
   "nbconvert_exporter": "python",
   "pygments_lexer": "ipython3",
   "version": "3.11.6"
  }
 },
 "nbformat": 4,
 "nbformat_minor": 5
}
